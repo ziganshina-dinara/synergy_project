{
 "cells": [
  {
   "cell_type": "code",
   "execution_count": 29,
   "metadata": {},
   "outputs": [],
   "source": [
    "from rdkit import Chem, RDLogger, DataStructs \n",
    "from rdkit.Chem import Descriptors, AllChem, MACCSkeys, Draw\n",
    "from rdkit.Chem.rdmolfiles import SmilesMolSupplier, ForwardSDMolSupplier\n",
    "from rdkit.Chem.Draw import IPythonConsole\n",
    "from IPython.display import Image\n",
    "import numpy as np\n",
    "import pandas as pd\n",
    "import seaborn as sns"
   ]
  },
  {
   "cell_type": "code",
   "execution_count": 30,
   "metadata": {},
   "outputs": [],
   "source": [
    "from rdkit import RDLogger\n",
    "RDLogger.DisableLog('rdApp.*')"
   ]
  },
  {
   "cell_type": "markdown",
   "metadata": {},
   "source": [
    "Напишем функции, необходимые для нахождения коэффициента Танимото для каждой пары молекул, выделения пар с коэффициентом, превышающим установленный порог и визуализации выбранных молекул."
   ]
  },
  {
   "cell_type": "code",
   "execution_count": 31,
   "metadata": {},
   "outputs": [],
   "source": [
    "def get_dataframe_similarity_moleculs(file_smile_txt, type_fingerprints):\n",
    "    \"\"\"\n",
    "    find Tanimoto similarity of molecules\n",
    "    \n",
    "    Parametrs\n",
    "    ---------\n",
    "    file_smile_txt: file with molecules\n",
    "    type_fingerprints: type of molecular fingerprints\n",
    "    \n",
    "    Return\n",
    "    ------\n",
    "    dataframe with Tanimoto similarity for each pair of molecules\n",
    "    \"\"\"\n",
    "    mol_list = Chem.SmilesMolSupplier(file_smile_txt, delimiter = '\\t', titleLine = False)\n",
    "    list_smiles = []\n",
    "    for i in mol_list:\n",
    "        list_smiles.append(Chem.MolToSmiles(i)) \n",
    "    if type_fingerprints== 'RDKFingerprint':\n",
    "        fps = [Chem.RDKFingerprint(x) for x in mol_list]\n",
    "    elif type_fingerprints == \"MACCSkeys\":\n",
    "        fps = [MACCSkeys.GenMACCSKeys(x) for x in mol_list]\n",
    "    elif type_fingerprints == \"MorganFingerprint\":\n",
    "        fps = [AllChem.GetMorganFingerprintAsBitVect(x, 2, nBits = 1024) for x in mol_list]\n",
    "    Similarity_fps = np.zeros((len(fps), len(fps)))\n",
    "    for i in range(len(fps)):\n",
    "        for j in range(len(fps)):\n",
    "            Similarity_fps[i,j] = DataStructs.FingerprintSimilarity(fps[i], fps[j])\n",
    "    molecules = pd.DataFrame(Similarity_fps, columns = list_smiles)\n",
    "    molecules.index =list_smiles\n",
    "    molecules.head()\n",
    "    return molecules\n",
    "\n",
    "def get_pairs_similarity_moleculs(molecules, treshold):\n",
    "    \"\"\"\n",
    "    find the pairs of molecules with Tanimoto coefficient higher than the threshold\n",
    "    \n",
    "    Parametrs\n",
    "    ---------\n",
    "    molecules: dataframe with Tanimoto similarity for each pair of molecules\n",
    "    treshold: set threshold\n",
    "    \n",
    "    Return\n",
    "    ------\n",
    "    list of the pairs of molecules with Tanimoto coefficient higher than the threshold\n",
    "    \"\"\"\n",
    "    pairs = []\n",
    "    for i in molecules.columns:\n",
    "        for j in molecules.index:\n",
    "            if (molecules[i][j] >= treshold) & (i != j) & (not ((j, i) in pairs)):#отбираем коэффициенты выше порога и убираем коэффициенты для повторяющихся пар и пар, содержащих одинаковые молекулы\n",
    "                pairs.append((i, j))\n",
    "    print(len(pairs))\n",
    "    print(pairs)\n",
    "    return pairs\n",
    "\n",
    "def draw_molecules(pairs, name_img):\n",
    "    \"\"\"\n",
    "    draw molecules and saves the image\n",
    "    \n",
    "    Parametrs\n",
    "    ---------\n",
    "    pairs: list of the pairs of molecules\n",
    "    name_img: name under which the image will be saved\n",
    "    \"\"\"\n",
    "    list_mol = [x for pair in pairs for x in pair]\n",
    "    mols = [Chem.MolFromSmiles(x) for x in list_mol]\n",
    "    img = Draw.MolsToGridImage(mols, molsPerRow = 2, subImgSize = (200, 200))\n",
    "    img.save(name_img)\n",
    "    Draw.MolsToGridImage(mols, molsPerRow = 2, subImgSize = (400, 400))\n",
    "    "
   ]
  },
  {
   "cell_type": "markdown",
   "metadata": {},
   "source": [
    "Для  коэффициента Танимото установим порог, равный 0.75. Будем работать отдельно с каждым типом \"molecular fingerprints\"."
   ]
  },
  {
   "cell_type": "markdown",
   "metadata": {},
   "source": [
    "# Topological Fingerprints"
   ]
  },
  {
   "cell_type": "code",
   "execution_count": 32,
   "metadata": {},
   "outputs": [
    {
     "data": {
      "text/html": [
       "<div>\n",
       "<style scoped>\n",
       "    .dataframe tbody tr th:only-of-type {\n",
       "        vertical-align: middle;\n",
       "    }\n",
       "\n",
       "    .dataframe tbody tr th {\n",
       "        vertical-align: top;\n",
       "    }\n",
       "\n",
       "    .dataframe thead th {\n",
       "        text-align: right;\n",
       "    }\n",
       "</style>\n",
       "<table border=\"1\" class=\"dataframe\">\n",
       "  <thead>\n",
       "    <tr style=\"text-align: right;\">\n",
       "      <th></th>\n",
       "      <th>CC1=C(C(=O)Nc2cc3cn[nH]c3cc2F)C(c2ccc(C(F)(F)F)cc2)CC(=O)N1</th>\n",
       "      <th>CN(CCOc1ccc(CC(Nc2ccccc2C(=O)c2ccccc2)C(=O)O)cc1)c1ccccn1</th>\n",
       "      <th>CC(N)Cc1c[nH]c2ccc(OCc3cccs3)cc12</th>\n",
       "      <th>C[C@]12C[C@H](O)C3C(CCC4=CC(=O)C=C[C@@]43C)C1CC[C@]2(O)C(=O)CO</th>\n",
       "      <th>COc1cc2c(cc1OC)C(=O)C(CC1CCN(Cc3ccccc3)CC1)C2</th>\n",
       "      <th>COc1cccc2c1C(=O)c1c(O)c3c(c(O)c1C2=O)C[C@@](O)(C(=O)CO)C[C@@H]3OC1C[C@H](N)[C@H](O)[C@H](C)O1</th>\n",
       "      <th>CC(c1cc2ccccc2s1)N(O)C(N)=O</th>\n",
       "      <th>CNC(=Nc1ccc(C2=NNC(=O)CC2C)cc1)NC#N</th>\n",
       "      <th>COC1CC2CCC(C)C(O)(O2)C(=O)C(=O)N2CCCCC2C(=O)OC(C(C)CC2CCC(O)C(OC)C2)CC(=O)C(C)C=C(C)C(O)C(OC)C(=O)C(C)CC(C)C=CC=CC=C1C</th>\n",
       "      <th>CC(=O)OCC(=O)[C@@]1(O)[C@@H](C)CC2C3CCC4=CC(=O)C=C[C@]4(C)[C@@]3(F)[C@@H](O)C[C@@]21C</th>\n",
       "      <th>...</th>\n",
       "      <th>NCCNS(=O)(=O)c1cccc2cnccc12</th>\n",
       "      <th>CCOC(=O)c1sc(SCc2ccccc2)c2c1CC(C)(C)CC2=O</th>\n",
       "      <th>Oc1nc(SCc2ccc(Cl)cc2)nc2c1CCC2</th>\n",
       "      <th>O=C(OCC#CCSc1nnc(-c2ccccc2F)o1)c1ccc(F)cc1</th>\n",
       "      <th>C[C@H]1CCCCO[C@H](CN(C)C(=O)Nc2ccccc2)[C@H](C)CN([C@H](C)CO)C(=O)c2cc(NC(=O)C3CCCCC3)ccc2O1</th>\n",
       "      <th>C[C@@H]1CN([C@H](C)CO)C(=O)Cc2cc(NC(=O)CCCCCC(=O)Nc3ccccc3N)ccc2O[C@@H]1CN(C)Cc1ccc(-c2ccccc2)cc1</th>\n",
       "      <th>CCOc1ccccc1CNc1ncnc2ccc(-c3c(C)noc3C)cc12</th>\n",
       "      <th>Cc1ccc2oc(-c3cccc(NC(=O)c4cc(-n5cnnc5)ccc4Cl)c3)nc2c1</th>\n",
       "      <th>C[C@H](N)C(=O)N[C@@H](C)C(=O)N[C@@H](Cc1ccccc1)C(=O)CCl</th>\n",
       "      <th>O=C(OCC#CCSc1nnc(-c2cccc(F)c2)o1)c1ccc(F)cc1</th>\n",
       "    </tr>\n",
       "  </thead>\n",
       "  <tbody>\n",
       "    <tr>\n",
       "      <th>CC1=C(C(=O)Nc2cc3cn[nH]c3cc2F)C(c2ccc(C(F)(F)F)cc2)CC(=O)N1</th>\n",
       "      <td>1.000000</td>\n",
       "      <td>0.354465</td>\n",
       "      <td>0.310617</td>\n",
       "      <td>0.273913</td>\n",
       "      <td>0.322581</td>\n",
       "      <td>0.495756</td>\n",
       "      <td>0.269727</td>\n",
       "      <td>0.294556</td>\n",
       "      <td>0.411295</td>\n",
       "      <td>0.351007</td>\n",
       "      <td>...</td>\n",
       "      <td>0.207988</td>\n",
       "      <td>0.433939</td>\n",
       "      <td>0.288395</td>\n",
       "      <td>0.300069</td>\n",
       "      <td>0.430269</td>\n",
       "      <td>0.423598</td>\n",
       "      <td>0.368522</td>\n",
       "      <td>0.398859</td>\n",
       "      <td>0.260337</td>\n",
       "      <td>0.288529</td>\n",
       "    </tr>\n",
       "    <tr>\n",
       "      <th>CN(CCOc1ccc(CC(Nc2ccccc2C(=O)c2ccccc2)C(=O)O)cc1)c1ccccn1</th>\n",
       "      <td>0.354465</td>\n",
       "      <td>1.000000</td>\n",
       "      <td>0.314783</td>\n",
       "      <td>0.192562</td>\n",
       "      <td>0.346187</td>\n",
       "      <td>0.382423</td>\n",
       "      <td>0.225779</td>\n",
       "      <td>0.269884</td>\n",
       "      <td>0.311302</td>\n",
       "      <td>0.246696</td>\n",
       "      <td>...</td>\n",
       "      <td>0.176256</td>\n",
       "      <td>0.347569</td>\n",
       "      <td>0.250203</td>\n",
       "      <td>0.254823</td>\n",
       "      <td>0.350685</td>\n",
       "      <td>0.365801</td>\n",
       "      <td>0.327511</td>\n",
       "      <td>0.322378</td>\n",
       "      <td>0.254477</td>\n",
       "      <td>0.247737</td>\n",
       "    </tr>\n",
       "    <tr>\n",
       "      <th>CC(N)Cc1c[nH]c2ccc(OCc3cccs3)cc12</th>\n",
       "      <td>0.310617</td>\n",
       "      <td>0.314783</td>\n",
       "      <td>1.000000</td>\n",
       "      <td>0.180313</td>\n",
       "      <td>0.289762</td>\n",
       "      <td>0.319537</td>\n",
       "      <td>0.260954</td>\n",
       "      <td>0.225462</td>\n",
       "      <td>0.262284</td>\n",
       "      <td>0.227454</td>\n",
       "      <td>...</td>\n",
       "      <td>0.218143</td>\n",
       "      <td>0.309557</td>\n",
       "      <td>0.268629</td>\n",
       "      <td>0.238727</td>\n",
       "      <td>0.287846</td>\n",
       "      <td>0.303008</td>\n",
       "      <td>0.310236</td>\n",
       "      <td>0.288905</td>\n",
       "      <td>0.235232</td>\n",
       "      <td>0.241758</td>\n",
       "    </tr>\n",
       "    <tr>\n",
       "      <th>C[C@]12C[C@H](O)C3C(CCC4=CC(=O)C=C[C@@]43C)C1CC[C@]2(O)C(=O)CO</th>\n",
       "      <td>0.273913</td>\n",
       "      <td>0.192562</td>\n",
       "      <td>0.180313</td>\n",
       "      <td>1.000000</td>\n",
       "      <td>0.213382</td>\n",
       "      <td>0.303727</td>\n",
       "      <td>0.170965</td>\n",
       "      <td>0.194389</td>\n",
       "      <td>0.346892</td>\n",
       "      <td>0.704176</td>\n",
       "      <td>...</td>\n",
       "      <td>0.138710</td>\n",
       "      <td>0.261773</td>\n",
       "      <td>0.200733</td>\n",
       "      <td>0.187166</td>\n",
       "      <td>0.258484</td>\n",
       "      <td>0.243647</td>\n",
       "      <td>0.222222</td>\n",
       "      <td>0.252449</td>\n",
       "      <td>0.162447</td>\n",
       "      <td>0.183993</td>\n",
       "    </tr>\n",
       "    <tr>\n",
       "      <th>COc1cc2c(cc1OC)C(=O)C(CC1CCN(Cc3ccccc3)CC1)C2</th>\n",
       "      <td>0.322581</td>\n",
       "      <td>0.346187</td>\n",
       "      <td>0.289762</td>\n",
       "      <td>0.213382</td>\n",
       "      <td>1.000000</td>\n",
       "      <td>0.383230</td>\n",
       "      <td>0.243343</td>\n",
       "      <td>0.263158</td>\n",
       "      <td>0.309458</td>\n",
       "      <td>0.264450</td>\n",
       "      <td>...</td>\n",
       "      <td>0.177579</td>\n",
       "      <td>0.356994</td>\n",
       "      <td>0.266960</td>\n",
       "      <td>0.247863</td>\n",
       "      <td>0.374724</td>\n",
       "      <td>0.377402</td>\n",
       "      <td>0.311263</td>\n",
       "      <td>0.288697</td>\n",
       "      <td>0.264132</td>\n",
       "      <td>0.240140</td>\n",
       "    </tr>\n",
       "  </tbody>\n",
       "</table>\n",
       "<p>5 rows × 98 columns</p>\n",
       "</div>"
      ],
      "text/plain": [
       "                                                    CC1=C(C(=O)Nc2cc3cn[nH]c3cc2F)C(c2ccc(C(F)(F)F)cc2)CC(=O)N1  \\\n",
       "CC1=C(C(=O)Nc2cc3cn[nH]c3cc2F)C(c2ccc(C(F)(F)F)...                                           1.000000             \n",
       "CN(CCOc1ccc(CC(Nc2ccccc2C(=O)c2ccccc2)C(=O)O)cc...                                           0.354465             \n",
       "CC(N)Cc1c[nH]c2ccc(OCc3cccs3)cc12                                                            0.310617             \n",
       "C[C@]12C[C@H](O)C3C(CCC4=CC(=O)C=C[C@@]43C)C1CC...                                           0.273913             \n",
       "COc1cc2c(cc1OC)C(=O)C(CC1CCN(Cc3ccccc3)CC1)C2                                                0.322581             \n",
       "\n",
       "                                                    CN(CCOc1ccc(CC(Nc2ccccc2C(=O)c2ccccc2)C(=O)O)cc1)c1ccccn1  \\\n",
       "CC1=C(C(=O)Nc2cc3cn[nH]c3cc2F)C(c2ccc(C(F)(F)F)...                                           0.354465           \n",
       "CN(CCOc1ccc(CC(Nc2ccccc2C(=O)c2ccccc2)C(=O)O)cc...                                           1.000000           \n",
       "CC(N)Cc1c[nH]c2ccc(OCc3cccs3)cc12                                                            0.314783           \n",
       "C[C@]12C[C@H](O)C3C(CCC4=CC(=O)C=C[C@@]43C)C1CC...                                           0.192562           \n",
       "COc1cc2c(cc1OC)C(=O)C(CC1CCN(Cc3ccccc3)CC1)C2                                                0.346187           \n",
       "\n",
       "                                                    CC(N)Cc1c[nH]c2ccc(OCc3cccs3)cc12  \\\n",
       "CC1=C(C(=O)Nc2cc3cn[nH]c3cc2F)C(c2ccc(C(F)(F)F)...                           0.310617   \n",
       "CN(CCOc1ccc(CC(Nc2ccccc2C(=O)c2ccccc2)C(=O)O)cc...                           0.314783   \n",
       "CC(N)Cc1c[nH]c2ccc(OCc3cccs3)cc12                                            1.000000   \n",
       "C[C@]12C[C@H](O)C3C(CCC4=CC(=O)C=C[C@@]43C)C1CC...                           0.180313   \n",
       "COc1cc2c(cc1OC)C(=O)C(CC1CCN(Cc3ccccc3)CC1)C2                                0.289762   \n",
       "\n",
       "                                                    C[C@]12C[C@H](O)C3C(CCC4=CC(=O)C=C[C@@]43C)C1CC[C@]2(O)C(=O)CO  \\\n",
       "CC1=C(C(=O)Nc2cc3cn[nH]c3cc2F)C(c2ccc(C(F)(F)F)...                                           0.273913                \n",
       "CN(CCOc1ccc(CC(Nc2ccccc2C(=O)c2ccccc2)C(=O)O)cc...                                           0.192562                \n",
       "CC(N)Cc1c[nH]c2ccc(OCc3cccs3)cc12                                                            0.180313                \n",
       "C[C@]12C[C@H](O)C3C(CCC4=CC(=O)C=C[C@@]43C)C1CC...                                           1.000000                \n",
       "COc1cc2c(cc1OC)C(=O)C(CC1CCN(Cc3ccccc3)CC1)C2                                                0.213382                \n",
       "\n",
       "                                                    COc1cc2c(cc1OC)C(=O)C(CC1CCN(Cc3ccccc3)CC1)C2  \\\n",
       "CC1=C(C(=O)Nc2cc3cn[nH]c3cc2F)C(c2ccc(C(F)(F)F)...                                       0.322581   \n",
       "CN(CCOc1ccc(CC(Nc2ccccc2C(=O)c2ccccc2)C(=O)O)cc...                                       0.346187   \n",
       "CC(N)Cc1c[nH]c2ccc(OCc3cccs3)cc12                                                        0.289762   \n",
       "C[C@]12C[C@H](O)C3C(CCC4=CC(=O)C=C[C@@]43C)C1CC...                                       0.213382   \n",
       "COc1cc2c(cc1OC)C(=O)C(CC1CCN(Cc3ccccc3)CC1)C2                                            1.000000   \n",
       "\n",
       "                                                    COc1cccc2c1C(=O)c1c(O)c3c(c(O)c1C2=O)C[C@@](O)(C(=O)CO)C[C@@H]3OC1C[C@H](N)[C@H](O)[C@H](C)O1  \\\n",
       "CC1=C(C(=O)Nc2cc3cn[nH]c3cc2F)C(c2ccc(C(F)(F)F)...                                           0.495756                                               \n",
       "CN(CCOc1ccc(CC(Nc2ccccc2C(=O)c2ccccc2)C(=O)O)cc...                                           0.382423                                               \n",
       "CC(N)Cc1c[nH]c2ccc(OCc3cccs3)cc12                                                            0.319537                                               \n",
       "C[C@]12C[C@H](O)C3C(CCC4=CC(=O)C=C[C@@]43C)C1CC...                                           0.303727                                               \n",
       "COc1cc2c(cc1OC)C(=O)C(CC1CCN(Cc3ccccc3)CC1)C2                                                0.383230                                               \n",
       "\n",
       "                                                    CC(c1cc2ccccc2s1)N(O)C(N)=O  \\\n",
       "CC1=C(C(=O)Nc2cc3cn[nH]c3cc2F)C(c2ccc(C(F)(F)F)...                     0.269727   \n",
       "CN(CCOc1ccc(CC(Nc2ccccc2C(=O)c2ccccc2)C(=O)O)cc...                     0.225779   \n",
       "CC(N)Cc1c[nH]c2ccc(OCc3cccs3)cc12                                      0.260954   \n",
       "C[C@]12C[C@H](O)C3C(CCC4=CC(=O)C=C[C@@]43C)C1CC...                     0.170965   \n",
       "COc1cc2c(cc1OC)C(=O)C(CC1CCN(Cc3ccccc3)CC1)C2                          0.243343   \n",
       "\n",
       "                                                    CNC(=Nc1ccc(C2=NNC(=O)CC2C)cc1)NC#N  \\\n",
       "CC1=C(C(=O)Nc2cc3cn[nH]c3cc2F)C(c2ccc(C(F)(F)F)...                             0.294556   \n",
       "CN(CCOc1ccc(CC(Nc2ccccc2C(=O)c2ccccc2)C(=O)O)cc...                             0.269884   \n",
       "CC(N)Cc1c[nH]c2ccc(OCc3cccs3)cc12                                              0.225462   \n",
       "C[C@]12C[C@H](O)C3C(CCC4=CC(=O)C=C[C@@]43C)C1CC...                             0.194389   \n",
       "COc1cc2c(cc1OC)C(=O)C(CC1CCN(Cc3ccccc3)CC1)C2                                  0.263158   \n",
       "\n",
       "                                                    COC1CC2CCC(C)C(O)(O2)C(=O)C(=O)N2CCCCC2C(=O)OC(C(C)CC2CCC(O)C(OC)C2)CC(=O)C(C)C=C(C)C(O)C(OC)C(=O)C(C)CC(C)C=CC=CC=C1C  \\\n",
       "CC1=C(C(=O)Nc2cc3cn[nH]c3cc2F)C(c2ccc(C(F)(F)F)...                                           0.411295                                                                        \n",
       "CN(CCOc1ccc(CC(Nc2ccccc2C(=O)c2ccccc2)C(=O)O)cc...                                           0.311302                                                                        \n",
       "CC(N)Cc1c[nH]c2ccc(OCc3cccs3)cc12                                                            0.262284                                                                        \n",
       "C[C@]12C[C@H](O)C3C(CCC4=CC(=O)C=C[C@@]43C)C1CC...                                           0.346892                                                                        \n",
       "COc1cc2c(cc1OC)C(=O)C(CC1CCN(Cc3ccccc3)CC1)C2                                                0.309458                                                                        \n",
       "\n",
       "                                                    CC(=O)OCC(=O)[C@@]1(O)[C@@H](C)CC2C3CCC4=CC(=O)C=C[C@]4(C)[C@@]3(F)[C@@H](O)C[C@@]21C  \\\n",
       "CC1=C(C(=O)Nc2cc3cn[nH]c3cc2F)C(c2ccc(C(F)(F)F)...                                           0.351007                                       \n",
       "CN(CCOc1ccc(CC(Nc2ccccc2C(=O)c2ccccc2)C(=O)O)cc...                                           0.246696                                       \n",
       "CC(N)Cc1c[nH]c2ccc(OCc3cccs3)cc12                                                            0.227454                                       \n",
       "C[C@]12C[C@H](O)C3C(CCC4=CC(=O)C=C[C@@]43C)C1CC...                                           0.704176                                       \n",
       "COc1cc2c(cc1OC)C(=O)C(CC1CCN(Cc3ccccc3)CC1)C2                                                0.264450                                       \n",
       "\n",
       "                                                    ...  \\\n",
       "CC1=C(C(=O)Nc2cc3cn[nH]c3cc2F)C(c2ccc(C(F)(F)F)...  ...   \n",
       "CN(CCOc1ccc(CC(Nc2ccccc2C(=O)c2ccccc2)C(=O)O)cc...  ...   \n",
       "CC(N)Cc1c[nH]c2ccc(OCc3cccs3)cc12                   ...   \n",
       "C[C@]12C[C@H](O)C3C(CCC4=CC(=O)C=C[C@@]43C)C1CC...  ...   \n",
       "COc1cc2c(cc1OC)C(=O)C(CC1CCN(Cc3ccccc3)CC1)C2       ...   \n",
       "\n",
       "                                                    NCCNS(=O)(=O)c1cccc2cnccc12  \\\n",
       "CC1=C(C(=O)Nc2cc3cn[nH]c3cc2F)C(c2ccc(C(F)(F)F)...                     0.207988   \n",
       "CN(CCOc1ccc(CC(Nc2ccccc2C(=O)c2ccccc2)C(=O)O)cc...                     0.176256   \n",
       "CC(N)Cc1c[nH]c2ccc(OCc3cccs3)cc12                                      0.218143   \n",
       "C[C@]12C[C@H](O)C3C(CCC4=CC(=O)C=C[C@@]43C)C1CC...                     0.138710   \n",
       "COc1cc2c(cc1OC)C(=O)C(CC1CCN(Cc3ccccc3)CC1)C2                          0.177579   \n",
       "\n",
       "                                                    CCOC(=O)c1sc(SCc2ccccc2)c2c1CC(C)(C)CC2=O  \\\n",
       "CC1=C(C(=O)Nc2cc3cn[nH]c3cc2F)C(c2ccc(C(F)(F)F)...                                   0.433939   \n",
       "CN(CCOc1ccc(CC(Nc2ccccc2C(=O)c2ccccc2)C(=O)O)cc...                                   0.347569   \n",
       "CC(N)Cc1c[nH]c2ccc(OCc3cccs3)cc12                                                    0.309557   \n",
       "C[C@]12C[C@H](O)C3C(CCC4=CC(=O)C=C[C@@]43C)C1CC...                                   0.261773   \n",
       "COc1cc2c(cc1OC)C(=O)C(CC1CCN(Cc3ccccc3)CC1)C2                                        0.356994   \n",
       "\n",
       "                                                    Oc1nc(SCc2ccc(Cl)cc2)nc2c1CCC2  \\\n",
       "CC1=C(C(=O)Nc2cc3cn[nH]c3cc2F)C(c2ccc(C(F)(F)F)...                        0.288395   \n",
       "CN(CCOc1ccc(CC(Nc2ccccc2C(=O)c2ccccc2)C(=O)O)cc...                        0.250203   \n",
       "CC(N)Cc1c[nH]c2ccc(OCc3cccs3)cc12                                         0.268629   \n",
       "C[C@]12C[C@H](O)C3C(CCC4=CC(=O)C=C[C@@]43C)C1CC...                        0.200733   \n",
       "COc1cc2c(cc1OC)C(=O)C(CC1CCN(Cc3ccccc3)CC1)C2                             0.266960   \n",
       "\n",
       "                                                    O=C(OCC#CCSc1nnc(-c2ccccc2F)o1)c1ccc(F)cc1  \\\n",
       "CC1=C(C(=O)Nc2cc3cn[nH]c3cc2F)C(c2ccc(C(F)(F)F)...                                    0.300069   \n",
       "CN(CCOc1ccc(CC(Nc2ccccc2C(=O)c2ccccc2)C(=O)O)cc...                                    0.254823   \n",
       "CC(N)Cc1c[nH]c2ccc(OCc3cccs3)cc12                                                     0.238727   \n",
       "C[C@]12C[C@H](O)C3C(CCC4=CC(=O)C=C[C@@]43C)C1CC...                                    0.187166   \n",
       "COc1cc2c(cc1OC)C(=O)C(CC1CCN(Cc3ccccc3)CC1)C2                                         0.247863   \n",
       "\n",
       "                                                    C[C@H]1CCCCO[C@H](CN(C)C(=O)Nc2ccccc2)[C@H](C)CN([C@H](C)CO)C(=O)c2cc(NC(=O)C3CCCCC3)ccc2O1  \\\n",
       "CC1=C(C(=O)Nc2cc3cn[nH]c3cc2F)C(c2ccc(C(F)(F)F)...                                           0.430269                                             \n",
       "CN(CCOc1ccc(CC(Nc2ccccc2C(=O)c2ccccc2)C(=O)O)cc...                                           0.350685                                             \n",
       "CC(N)Cc1c[nH]c2ccc(OCc3cccs3)cc12                                                            0.287846                                             \n",
       "C[C@]12C[C@H](O)C3C(CCC4=CC(=O)C=C[C@@]43C)C1CC...                                           0.258484                                             \n",
       "COc1cc2c(cc1OC)C(=O)C(CC1CCN(Cc3ccccc3)CC1)C2                                                0.374724                                             \n",
       "\n",
       "                                                    C[C@@H]1CN([C@H](C)CO)C(=O)Cc2cc(NC(=O)CCCCCC(=O)Nc3ccccc3N)ccc2O[C@@H]1CN(C)Cc1ccc(-c2ccccc2)cc1  \\\n",
       "CC1=C(C(=O)Nc2cc3cn[nH]c3cc2F)C(c2ccc(C(F)(F)F)...                                           0.423598                                                   \n",
       "CN(CCOc1ccc(CC(Nc2ccccc2C(=O)c2ccccc2)C(=O)O)cc...                                           0.365801                                                   \n",
       "CC(N)Cc1c[nH]c2ccc(OCc3cccs3)cc12                                                            0.303008                                                   \n",
       "C[C@]12C[C@H](O)C3C(CCC4=CC(=O)C=C[C@@]43C)C1CC...                                           0.243647                                                   \n",
       "COc1cc2c(cc1OC)C(=O)C(CC1CCN(Cc3ccccc3)CC1)C2                                                0.377402                                                   \n",
       "\n",
       "                                                    CCOc1ccccc1CNc1ncnc2ccc(-c3c(C)noc3C)cc12  \\\n",
       "CC1=C(C(=O)Nc2cc3cn[nH]c3cc2F)C(c2ccc(C(F)(F)F)...                                   0.368522   \n",
       "CN(CCOc1ccc(CC(Nc2ccccc2C(=O)c2ccccc2)C(=O)O)cc...                                   0.327511   \n",
       "CC(N)Cc1c[nH]c2ccc(OCc3cccs3)cc12                                                    0.310236   \n",
       "C[C@]12C[C@H](O)C3C(CCC4=CC(=O)C=C[C@@]43C)C1CC...                                   0.222222   \n",
       "COc1cc2c(cc1OC)C(=O)C(CC1CCN(Cc3ccccc3)CC1)C2                                        0.311263   \n",
       "\n",
       "                                                    Cc1ccc2oc(-c3cccc(NC(=O)c4cc(-n5cnnc5)ccc4Cl)c3)nc2c1  \\\n",
       "CC1=C(C(=O)Nc2cc3cn[nH]c3cc2F)C(c2ccc(C(F)(F)F)...                                           0.398859       \n",
       "CN(CCOc1ccc(CC(Nc2ccccc2C(=O)c2ccccc2)C(=O)O)cc...                                           0.322378       \n",
       "CC(N)Cc1c[nH]c2ccc(OCc3cccs3)cc12                                                            0.288905       \n",
       "C[C@]12C[C@H](O)C3C(CCC4=CC(=O)C=C[C@@]43C)C1CC...                                           0.252449       \n",
       "COc1cc2c(cc1OC)C(=O)C(CC1CCN(Cc3ccccc3)CC1)C2                                                0.288697       \n",
       "\n",
       "                                                    C[C@H](N)C(=O)N[C@@H](C)C(=O)N[C@@H](Cc1ccccc1)C(=O)CCl  \\\n",
       "CC1=C(C(=O)Nc2cc3cn[nH]c3cc2F)C(c2ccc(C(F)(F)F)...                                           0.260337         \n",
       "CN(CCOc1ccc(CC(Nc2ccccc2C(=O)c2ccccc2)C(=O)O)cc...                                           0.254477         \n",
       "CC(N)Cc1c[nH]c2ccc(OCc3cccs3)cc12                                                            0.235232         \n",
       "C[C@]12C[C@H](O)C3C(CCC4=CC(=O)C=C[C@@]43C)C1CC...                                           0.162447         \n",
       "COc1cc2c(cc1OC)C(=O)C(CC1CCN(Cc3ccccc3)CC1)C2                                                0.264132         \n",
       "\n",
       "                                                    O=C(OCC#CCSc1nnc(-c2cccc(F)c2)o1)c1ccc(F)cc1  \n",
       "CC1=C(C(=O)Nc2cc3cn[nH]c3cc2F)C(c2ccc(C(F)(F)F)...                                      0.288529  \n",
       "CN(CCOc1ccc(CC(Nc2ccccc2C(=O)c2ccccc2)C(=O)O)cc...                                      0.247737  \n",
       "CC(N)Cc1c[nH]c2ccc(OCc3cccs3)cc12                                                       0.241758  \n",
       "C[C@]12C[C@H](O)C3C(CCC4=CC(=O)C=C[C@@]43C)C1CC...                                      0.183993  \n",
       "COc1cc2c(cc1OC)C(=O)C(CC1CCN(Cc3ccccc3)CC1)C2                                           0.240140  \n",
       "\n",
       "[5 rows x 98 columns]"
      ]
     },
     "execution_count": 32,
     "metadata": {},
     "output_type": "execute_result"
    }
   ],
   "source": [
    "molecules = get_dataframe_similarity_moleculs( \"SMILES_tutorial.txt\", \"RDKFingerprint\" )\n",
    "molecules.head()"
   ]
  },
  {
   "cell_type": "code",
   "execution_count": 33,
   "metadata": {},
   "outputs": [
    {
     "name": "stdout",
     "output_type": "stream",
     "text": [
      "7\n",
      "[('CC(=O)OCC(=O)[C@@]1(O)[C@@H](C)CC2C3CCC4=CC(=O)C=C[C@]4(C)[C@@]3(F)[C@@H](O)C[C@@]21C', 'CC(=O)OCC(=O)[C@@]1(O)[C@H](C)C[C@H]2[C@@H]3CCC4=CC(=O)C=C[C@]4(C)[C@@]3(F)[C@@H](O)C[C@@]21C'), ('C[C@@H](CO)N1C[C@@H](C)[C@H](CN(C)Cc2ccc(C(F)(F)F)cc2)Oc2ccc(NC(=O)Nc3ccccc3)cc2C1=O', 'C[C@H]1CN([C@H](C)CO)C(=O)c2cc(N(C)C)ccc2O[C@H]1CN(C)Cc1ccc(C(=O)Nc2ccccc2N)cc1'), ('COc1ccc(S(=O)(=O)N(C)C[C@H]2Oc3c(NC(=O)Nc4ccccc4)cccc3C(=O)N([C@H](C)CO)C[C@H]2C)cc1', 'COc1ccc(S(=O)(=O)N(C)C[C@@H]2Oc3c(NC(=O)Nc4cccc5ccccc45)cccc3C(=O)N([C@H](C)CO)C[C@H]2C)cc1'), ('CC(=O)Nc1sc2c(c1-c1nc3ccccc3s1)CCCNC2', 'CC(=O)Nc1sc2c(c1-c1nc3ccccc3s1)CCN(C)C2'), ('C[C@H]1CN([C@H](C)CO)C(=O)Cc2cc(NC(=O)Nc3cccc4ccccc34)ccc2O[C@@H]1CN(C)Cc1ccc(-c2ccccc2)cc1', 'C[C@@H]1CN([C@H](C)CO)C(=O)Cc2cc(NC(=O)CCCCCC(=O)Nc3ccccc3N)ccc2O[C@@H]1CN(C)Cc1ccc(-c2ccccc2)cc1'), ('Cc1noc(C)c1NC(=O)Nc1ccc2c(c1)C(=O)N([C@H](C)CO)C[C@H](C)[C@@H](CN(C)C(=O)C1CCCCC1)OCCCC[C@H](C)O2', 'C[C@H]1CCCCO[C@H](CN(C)C(=O)Nc2ccccc2)[C@H](C)CN([C@H](C)CO)C(=O)c2cc(NC(=O)C3CCCCC3)ccc2O1'), ('O=C(OCC#CCSc1nnc(-c2ccccc2F)o1)c1ccc(F)cc1', 'O=C(OCC#CCSc1nnc(-c2cccc(F)c2)o1)c1ccc(F)cc1')]\n"
     ]
    }
   ],
   "source": [
    "pairs_RDK=get_pairs_similarity_moleculs(molecules, 0.75)"
   ]
  },
  {
   "cell_type": "code",
   "execution_count": 34,
   "metadata": {},
   "outputs": [
    {
     "data": {
      "image/png": "[encoded data removed]",
      "text/plain": [
       "<IPython.core.display.Image object>"
      ]
     },
     "execution_count": 34,
     "metadata": {},
     "output_type": "execute_result"
    }
   ],
   "source": [
    "draw_molecules(pairs_RDK, \"mols_RDK_0.75.png\")\n",
    "Image(filename = \"mols_RDK_0.75.png\")"
   ]
  },
  {
   "cell_type": "markdown",
   "metadata": {},
   "source": [
    "# MACCS Keys"
   ]
  },
  {
   "cell_type": "code",
   "execution_count": 35,
   "metadata": {},
   "outputs": [
    {
     "data": {
      "text/html": [
       "<div>\n",
       "<style scoped>\n",
       "    .dataframe tbody tr th:only-of-type {\n",
       "        vertical-align: middle;\n",
       "    }\n",
       "\n",
       "    .dataframe tbody tr th {\n",
       "        vertical-align: top;\n",
       "    }\n",
       "\n",
       "    .dataframe thead th {\n",
       "        text-align: right;\n",
       "    }\n",
       "</style>\n",
       "<table border=\"1\" class=\"dataframe\">\n",
       "  <thead>\n",
       "    <tr style=\"text-align: right;\">\n",
       "      <th></th>\n",
       "      <th>CC1=C(C(=O)Nc2cc3cn[nH]c3cc2F)C(c2ccc(C(F)(F)F)cc2)CC(=O)N1</th>\n",
       "      <th>CN(CCOc1ccc(CC(Nc2ccccc2C(=O)c2ccccc2)C(=O)O)cc1)c1ccccn1</th>\n",
       "      <th>CC(N)Cc1c[nH]c2ccc(OCc3cccs3)cc12</th>\n",
       "      <th>C[C@]12C[C@H](O)C3C(CCC4=CC(=O)C=C[C@@]43C)C1CC[C@]2(O)C(=O)CO</th>\n",
       "      <th>COc1cc2c(cc1OC)C(=O)C(CC1CCN(Cc3ccccc3)CC1)C2</th>\n",
       "      <th>COc1cccc2c1C(=O)c1c(O)c3c(c(O)c1C2=O)C[C@@](O)(C(=O)CO)C[C@@H]3OC1C[C@H](N)[C@H](O)[C@H](C)O1</th>\n",
       "      <th>CC(c1cc2ccccc2s1)N(O)C(N)=O</th>\n",
       "      <th>CNC(=Nc1ccc(C2=NNC(=O)CC2C)cc1)NC#N</th>\n",
       "      <th>COC1CC2CCC(C)C(O)(O2)C(=O)C(=O)N2CCCCC2C(=O)OC(C(C)CC2CCC(O)C(OC)C2)CC(=O)C(C)C=C(C)C(O)C(OC)C(=O)C(C)CC(C)C=CC=CC=C1C</th>\n",
       "      <th>CC(=O)OCC(=O)[C@@]1(O)[C@@H](C)CC2C3CCC4=CC(=O)C=C[C@]4(C)[C@@]3(F)[C@@H](O)C[C@@]21C</th>\n",
       "      <th>...</th>\n",
       "      <th>NCCNS(=O)(=O)c1cccc2cnccc12</th>\n",
       "      <th>CCOC(=O)c1sc(SCc2ccccc2)c2c1CC(C)(C)CC2=O</th>\n",
       "      <th>Oc1nc(SCc2ccc(Cl)cc2)nc2c1CCC2</th>\n",
       "      <th>O=C(OCC#CCSc1nnc(-c2ccccc2F)o1)c1ccc(F)cc1</th>\n",
       "      <th>C[C@H]1CCCCO[C@H](CN(C)C(=O)Nc2ccccc2)[C@H](C)CN([C@H](C)CO)C(=O)c2cc(NC(=O)C3CCCCC3)ccc2O1</th>\n",
       "      <th>C[C@@H]1CN([C@H](C)CO)C(=O)Cc2cc(NC(=O)CCCCCC(=O)Nc3ccccc3N)ccc2O[C@@H]1CN(C)Cc1ccc(-c2ccccc2)cc1</th>\n",
       "      <th>CCOc1ccccc1CNc1ncnc2ccc(-c3c(C)noc3C)cc12</th>\n",
       "      <th>Cc1ccc2oc(-c3cccc(NC(=O)c4cc(-n5cnnc5)ccc4Cl)c3)nc2c1</th>\n",
       "      <th>C[C@H](N)C(=O)N[C@@H](C)C(=O)N[C@@H](Cc1ccccc1)C(=O)CCl</th>\n",
       "      <th>O=C(OCC#CCSc1nnc(-c2cccc(F)c2)o1)c1ccc(F)cc1</th>\n",
       "    </tr>\n",
       "  </thead>\n",
       "  <tbody>\n",
       "    <tr>\n",
       "      <th>CC1=C(C(=O)Nc2cc3cn[nH]c3cc2F)C(c2ccc(C(F)(F)F)cc2)CC(=O)N1</th>\n",
       "      <td>1.000000</td>\n",
       "      <td>0.357143</td>\n",
       "      <td>0.357143</td>\n",
       "      <td>0.307692</td>\n",
       "      <td>0.282051</td>\n",
       "      <td>0.395062</td>\n",
       "      <td>0.342466</td>\n",
       "      <td>0.537313</td>\n",
       "      <td>0.392857</td>\n",
       "      <td>0.337500</td>\n",
       "      <td>...</td>\n",
       "      <td>0.337349</td>\n",
       "      <td>0.256410</td>\n",
       "      <td>0.424658</td>\n",
       "      <td>0.432432</td>\n",
       "      <td>0.404494</td>\n",
       "      <td>0.415730</td>\n",
       "      <td>0.434211</td>\n",
       "      <td>0.552239</td>\n",
       "      <td>0.304348</td>\n",
       "      <td>0.405405</td>\n",
       "    </tr>\n",
       "    <tr>\n",
       "      <th>CN(CCOc1ccc(CC(Nc2ccccc2C(=O)c2ccccc2)C(=O)O)cc1)c1ccccn1</th>\n",
       "      <td>0.357143</td>\n",
       "      <td>1.000000</td>\n",
       "      <td>0.417910</td>\n",
       "      <td>0.360000</td>\n",
       "      <td>0.538462</td>\n",
       "      <td>0.569444</td>\n",
       "      <td>0.272727</td>\n",
       "      <td>0.373333</td>\n",
       "      <td>0.560000</td>\n",
       "      <td>0.371795</td>\n",
       "      <td>...</td>\n",
       "      <td>0.337349</td>\n",
       "      <td>0.342466</td>\n",
       "      <td>0.350649</td>\n",
       "      <td>0.308642</td>\n",
       "      <td>0.666667</td>\n",
       "      <td>0.680000</td>\n",
       "      <td>0.472973</td>\n",
       "      <td>0.350649</td>\n",
       "      <td>0.363636</td>\n",
       "      <td>0.283951</td>\n",
       "    </tr>\n",
       "    <tr>\n",
       "      <th>CC(N)Cc1c[nH]c2ccc(OCc3cccs3)cc12</th>\n",
       "      <td>0.357143</td>\n",
       "      <td>0.417910</td>\n",
       "      <td>1.000000</td>\n",
       "      <td>0.296875</td>\n",
       "      <td>0.372881</td>\n",
       "      <td>0.424242</td>\n",
       "      <td>0.362069</td>\n",
       "      <td>0.312500</td>\n",
       "      <td>0.324324</td>\n",
       "      <td>0.294118</td>\n",
       "      <td>...</td>\n",
       "      <td>0.333333</td>\n",
       "      <td>0.410714</td>\n",
       "      <td>0.440678</td>\n",
       "      <td>0.318182</td>\n",
       "      <td>0.376623</td>\n",
       "      <td>0.407895</td>\n",
       "      <td>0.451613</td>\n",
       "      <td>0.307692</td>\n",
       "      <td>0.339623</td>\n",
       "      <td>0.328125</td>\n",
       "    </tr>\n",
       "    <tr>\n",
       "      <th>C[C@]12C[C@H](O)C3C(CCC4=CC(=O)C=C[C@@]43C)C1CC[C@]2(O)C(=O)CO</th>\n",
       "      <td>0.307692</td>\n",
       "      <td>0.360000</td>\n",
       "      <td>0.296875</td>\n",
       "      <td>1.000000</td>\n",
       "      <td>0.375000</td>\n",
       "      <td>0.553846</td>\n",
       "      <td>0.162162</td>\n",
       "      <td>0.197368</td>\n",
       "      <td>0.567164</td>\n",
       "      <td>0.826923</td>\n",
       "      <td>...</td>\n",
       "      <td>0.192771</td>\n",
       "      <td>0.409836</td>\n",
       "      <td>0.243243</td>\n",
       "      <td>0.175000</td>\n",
       "      <td>0.448718</td>\n",
       "      <td>0.443038</td>\n",
       "      <td>0.259740</td>\n",
       "      <td>0.150000</td>\n",
       "      <td>0.278689</td>\n",
       "      <td>0.164557</td>\n",
       "    </tr>\n",
       "    <tr>\n",
       "      <th>COc1cc2c(cc1OC)C(=O)C(CC1CCN(Cc3ccccc3)CC1)C2</th>\n",
       "      <td>0.282051</td>\n",
       "      <td>0.538462</td>\n",
       "      <td>0.372881</td>\n",
       "      <td>0.375000</td>\n",
       "      <td>1.000000</td>\n",
       "      <td>0.477612</td>\n",
       "      <td>0.253731</td>\n",
       "      <td>0.253521</td>\n",
       "      <td>0.492754</td>\n",
       "      <td>0.367647</td>\n",
       "      <td>...</td>\n",
       "      <td>0.293333</td>\n",
       "      <td>0.423729</td>\n",
       "      <td>0.363636</td>\n",
       "      <td>0.295775</td>\n",
       "      <td>0.541667</td>\n",
       "      <td>0.534247</td>\n",
       "      <td>0.461538</td>\n",
       "      <td>0.343284</td>\n",
       "      <td>0.266667</td>\n",
       "      <td>0.267606</td>\n",
       "    </tr>\n",
       "  </tbody>\n",
       "</table>\n",
       "<p>5 rows × 98 columns</p>\n",
       "</div>"
      ],
      "text/plain": [
       "                                                    CC1=C(C(=O)Nc2cc3cn[nH]c3cc2F)C(c2ccc(C(F)(F)F)cc2)CC(=O)N1  \\\n",
       "CC1=C(C(=O)Nc2cc3cn[nH]c3cc2F)C(c2ccc(C(F)(F)F)...                                           1.000000             \n",
       "CN(CCOc1ccc(CC(Nc2ccccc2C(=O)c2ccccc2)C(=O)O)cc...                                           0.357143             \n",
       "CC(N)Cc1c[nH]c2ccc(OCc3cccs3)cc12                                                            0.357143             \n",
       "C[C@]12C[C@H](O)C3C(CCC4=CC(=O)C=C[C@@]43C)C1CC...                                           0.307692             \n",
       "COc1cc2c(cc1OC)C(=O)C(CC1CCN(Cc3ccccc3)CC1)C2                                                0.282051             \n",
       "\n",
       "                                                    CN(CCOc1ccc(CC(Nc2ccccc2C(=O)c2ccccc2)C(=O)O)cc1)c1ccccn1  \\\n",
       "CC1=C(C(=O)Nc2cc3cn[nH]c3cc2F)C(c2ccc(C(F)(F)F)...                                           0.357143           \n",
       "CN(CCOc1ccc(CC(Nc2ccccc2C(=O)c2ccccc2)C(=O)O)cc...                                           1.000000           \n",
       "CC(N)Cc1c[nH]c2ccc(OCc3cccs3)cc12                                                            0.417910           \n",
       "C[C@]12C[C@H](O)C3C(CCC4=CC(=O)C=C[C@@]43C)C1CC...                                           0.360000           \n",
       "COc1cc2c(cc1OC)C(=O)C(CC1CCN(Cc3ccccc3)CC1)C2                                                0.538462           \n",
       "\n",
       "                                                    CC(N)Cc1c[nH]c2ccc(OCc3cccs3)cc12  \\\n",
       "CC1=C(C(=O)Nc2cc3cn[nH]c3cc2F)C(c2ccc(C(F)(F)F)...                           0.357143   \n",
       "CN(CCOc1ccc(CC(Nc2ccccc2C(=O)c2ccccc2)C(=O)O)cc...                           0.417910   \n",
       "CC(N)Cc1c[nH]c2ccc(OCc3cccs3)cc12                                            1.000000   \n",
       "C[C@]12C[C@H](O)C3C(CCC4=CC(=O)C=C[C@@]43C)C1CC...                           0.296875   \n",
       "COc1cc2c(cc1OC)C(=O)C(CC1CCN(Cc3ccccc3)CC1)C2                                0.372881   \n",
       "\n",
       "                                                    C[C@]12C[C@H](O)C3C(CCC4=CC(=O)C=C[C@@]43C)C1CC[C@]2(O)C(=O)CO  \\\n",
       "CC1=C(C(=O)Nc2cc3cn[nH]c3cc2F)C(c2ccc(C(F)(F)F)...                                           0.307692                \n",
       "CN(CCOc1ccc(CC(Nc2ccccc2C(=O)c2ccccc2)C(=O)O)cc...                                           0.360000                \n",
       "CC(N)Cc1c[nH]c2ccc(OCc3cccs3)cc12                                                            0.296875                \n",
       "C[C@]12C[C@H](O)C3C(CCC4=CC(=O)C=C[C@@]43C)C1CC...                                           1.000000                \n",
       "COc1cc2c(cc1OC)C(=O)C(CC1CCN(Cc3ccccc3)CC1)C2                                                0.375000                \n",
       "\n",
       "                                                    COc1cc2c(cc1OC)C(=O)C(CC1CCN(Cc3ccccc3)CC1)C2  \\\n",
       "CC1=C(C(=O)Nc2cc3cn[nH]c3cc2F)C(c2ccc(C(F)(F)F)...                                       0.282051   \n",
       "CN(CCOc1ccc(CC(Nc2ccccc2C(=O)c2ccccc2)C(=O)O)cc...                                       0.538462   \n",
       "CC(N)Cc1c[nH]c2ccc(OCc3cccs3)cc12                                                        0.372881   \n",
       "C[C@]12C[C@H](O)C3C(CCC4=CC(=O)C=C[C@@]43C)C1CC...                                       0.375000   \n",
       "COc1cc2c(cc1OC)C(=O)C(CC1CCN(Cc3ccccc3)CC1)C2                                            1.000000   \n",
       "\n",
       "                                                    COc1cccc2c1C(=O)c1c(O)c3c(c(O)c1C2=O)C[C@@](O)(C(=O)CO)C[C@@H]3OC1C[C@H](N)[C@H](O)[C@H](C)O1  \\\n",
       "CC1=C(C(=O)Nc2cc3cn[nH]c3cc2F)C(c2ccc(C(F)(F)F)...                                           0.395062                                               \n",
       "CN(CCOc1ccc(CC(Nc2ccccc2C(=O)c2ccccc2)C(=O)O)cc...                                           0.569444                                               \n",
       "CC(N)Cc1c[nH]c2ccc(OCc3cccs3)cc12                                                            0.424242                                               \n",
       "C[C@]12C[C@H](O)C3C(CCC4=CC(=O)C=C[C@@]43C)C1CC...                                           0.553846                                               \n",
       "COc1cc2c(cc1OC)C(=O)C(CC1CCN(Cc3ccccc3)CC1)C2                                                0.477612                                               \n",
       "\n",
       "                                                    CC(c1cc2ccccc2s1)N(O)C(N)=O  \\\n",
       "CC1=C(C(=O)Nc2cc3cn[nH]c3cc2F)C(c2ccc(C(F)(F)F)...                     0.342466   \n",
       "CN(CCOc1ccc(CC(Nc2ccccc2C(=O)c2ccccc2)C(=O)O)cc...                     0.272727   \n",
       "CC(N)Cc1c[nH]c2ccc(OCc3cccs3)cc12                                      0.362069   \n",
       "C[C@]12C[C@H](O)C3C(CCC4=CC(=O)C=C[C@@]43C)C1CC...                     0.162162   \n",
       "COc1cc2c(cc1OC)C(=O)C(CC1CCN(Cc3ccccc3)CC1)C2                          0.253731   \n",
       "\n",
       "                                                    CNC(=Nc1ccc(C2=NNC(=O)CC2C)cc1)NC#N  \\\n",
       "CC1=C(C(=O)Nc2cc3cn[nH]c3cc2F)C(c2ccc(C(F)(F)F)...                             0.537313   \n",
       "CN(CCOc1ccc(CC(Nc2ccccc2C(=O)c2ccccc2)C(=O)O)cc...                             0.373333   \n",
       "CC(N)Cc1c[nH]c2ccc(OCc3cccs3)cc12                                              0.312500   \n",
       "C[C@]12C[C@H](O)C3C(CCC4=CC(=O)C=C[C@@]43C)C1CC...                             0.197368   \n",
       "COc1cc2c(cc1OC)C(=O)C(CC1CCN(Cc3ccccc3)CC1)C2                                  0.253521   \n",
       "\n",
       "                                                    COC1CC2CCC(C)C(O)(O2)C(=O)C(=O)N2CCCCC2C(=O)OC(C(C)CC2CCC(O)C(OC)C2)CC(=O)C(C)C=C(C)C(O)C(OC)C(=O)C(C)CC(C)C=CC=CC=C1C  \\\n",
       "CC1=C(C(=O)Nc2cc3cn[nH]c3cc2F)C(c2ccc(C(F)(F)F)...                                           0.392857                                                                        \n",
       "CN(CCOc1ccc(CC(Nc2ccccc2C(=O)c2ccccc2)C(=O)O)cc...                                           0.560000                                                                        \n",
       "CC(N)Cc1c[nH]c2ccc(OCc3cccs3)cc12                                                            0.324324                                                                        \n",
       "C[C@]12C[C@H](O)C3C(CCC4=CC(=O)C=C[C@@]43C)C1CC...                                           0.567164                                                                        \n",
       "COc1cc2c(cc1OC)C(=O)C(CC1CCN(Cc3ccccc3)CC1)C2                                                0.492754                                                                        \n",
       "\n",
       "                                                    CC(=O)OCC(=O)[C@@]1(O)[C@@H](C)CC2C3CCC4=CC(=O)C=C[C@]4(C)[C@@]3(F)[C@@H](O)C[C@@]21C  \\\n",
       "CC1=C(C(=O)Nc2cc3cn[nH]c3cc2F)C(c2ccc(C(F)(F)F)...                                           0.337500                                       \n",
       "CN(CCOc1ccc(CC(Nc2ccccc2C(=O)c2ccccc2)C(=O)O)cc...                                           0.371795                                       \n",
       "CC(N)Cc1c[nH]c2ccc(OCc3cccs3)cc12                                                            0.294118                                       \n",
       "C[C@]12C[C@H](O)C3C(CCC4=CC(=O)C=C[C@@]43C)C1CC...                                           0.826923                                       \n",
       "COc1cc2c(cc1OC)C(=O)C(CC1CCN(Cc3ccccc3)CC1)C2                                                0.367647                                       \n",
       "\n",
       "                                                    ...  \\\n",
       "CC1=C(C(=O)Nc2cc3cn[nH]c3cc2F)C(c2ccc(C(F)(F)F)...  ...   \n",
       "CN(CCOc1ccc(CC(Nc2ccccc2C(=O)c2ccccc2)C(=O)O)cc...  ...   \n",
       "CC(N)Cc1c[nH]c2ccc(OCc3cccs3)cc12                   ...   \n",
       "C[C@]12C[C@H](O)C3C(CCC4=CC(=O)C=C[C@@]43C)C1CC...  ...   \n",
       "COc1cc2c(cc1OC)C(=O)C(CC1CCN(Cc3ccccc3)CC1)C2       ...   \n",
       "\n",
       "                                                    NCCNS(=O)(=O)c1cccc2cnccc12  \\\n",
       "CC1=C(C(=O)Nc2cc3cn[nH]c3cc2F)C(c2ccc(C(F)(F)F)...                     0.337349   \n",
       "CN(CCOc1ccc(CC(Nc2ccccc2C(=O)c2ccccc2)C(=O)O)cc...                     0.337349   \n",
       "CC(N)Cc1c[nH]c2ccc(OCc3cccs3)cc12                                      0.333333   \n",
       "C[C@]12C[C@H](O)C3C(CCC4=CC(=O)C=C[C@@]43C)C1CC...                     0.192771   \n",
       "COc1cc2c(cc1OC)C(=O)C(CC1CCN(Cc3ccccc3)CC1)C2                          0.293333   \n",
       "\n",
       "                                                    CCOC(=O)c1sc(SCc2ccccc2)c2c1CC(C)(C)CC2=O  \\\n",
       "CC1=C(C(=O)Nc2cc3cn[nH]c3cc2F)C(c2ccc(C(F)(F)F)...                                   0.256410   \n",
       "CN(CCOc1ccc(CC(Nc2ccccc2C(=O)c2ccccc2)C(=O)O)cc...                                   0.342466   \n",
       "CC(N)Cc1c[nH]c2ccc(OCc3cccs3)cc12                                                    0.410714   \n",
       "C[C@]12C[C@H](O)C3C(CCC4=CC(=O)C=C[C@@]43C)C1CC...                                   0.409836   \n",
       "COc1cc2c(cc1OC)C(=O)C(CC1CCN(Cc3ccccc3)CC1)C2                                        0.423729   \n",
       "\n",
       "                                                    Oc1nc(SCc2ccc(Cl)cc2)nc2c1CCC2  \\\n",
       "CC1=C(C(=O)Nc2cc3cn[nH]c3cc2F)C(c2ccc(C(F)(F)F)...                        0.424658   \n",
       "CN(CCOc1ccc(CC(Nc2ccccc2C(=O)c2ccccc2)C(=O)O)cc...                        0.350649   \n",
       "CC(N)Cc1c[nH]c2ccc(OCc3cccs3)cc12                                         0.440678   \n",
       "C[C@]12C[C@H](O)C3C(CCC4=CC(=O)C=C[C@@]43C)C1CC...                        0.243243   \n",
       "COc1cc2c(cc1OC)C(=O)C(CC1CCN(Cc3ccccc3)CC1)C2                             0.363636   \n",
       "\n",
       "                                                    O=C(OCC#CCSc1nnc(-c2ccccc2F)o1)c1ccc(F)cc1  \\\n",
       "CC1=C(C(=O)Nc2cc3cn[nH]c3cc2F)C(c2ccc(C(F)(F)F)...                                    0.432432   \n",
       "CN(CCOc1ccc(CC(Nc2ccccc2C(=O)c2ccccc2)C(=O)O)cc...                                    0.308642   \n",
       "CC(N)Cc1c[nH]c2ccc(OCc3cccs3)cc12                                                     0.318182   \n",
       "C[C@]12C[C@H](O)C3C(CCC4=CC(=O)C=C[C@@]43C)C1CC...                                    0.175000   \n",
       "COc1cc2c(cc1OC)C(=O)C(CC1CCN(Cc3ccccc3)CC1)C2                                         0.295775   \n",
       "\n",
       "                                                    C[C@H]1CCCCO[C@H](CN(C)C(=O)Nc2ccccc2)[C@H](C)CN([C@H](C)CO)C(=O)c2cc(NC(=O)C3CCCCC3)ccc2O1  \\\n",
       "CC1=C(C(=O)Nc2cc3cn[nH]c3cc2F)C(c2ccc(C(F)(F)F)...                                           0.404494                                             \n",
       "CN(CCOc1ccc(CC(Nc2ccccc2C(=O)c2ccccc2)C(=O)O)cc...                                           0.666667                                             \n",
       "CC(N)Cc1c[nH]c2ccc(OCc3cccs3)cc12                                                            0.376623                                             \n",
       "C[C@]12C[C@H](O)C3C(CCC4=CC(=O)C=C[C@@]43C)C1CC...                                           0.448718                                             \n",
       "COc1cc2c(cc1OC)C(=O)C(CC1CCN(Cc3ccccc3)CC1)C2                                                0.541667                                             \n",
       "\n",
       "                                                    C[C@@H]1CN([C@H](C)CO)C(=O)Cc2cc(NC(=O)CCCCCC(=O)Nc3ccccc3N)ccc2O[C@@H]1CN(C)Cc1ccc(-c2ccccc2)cc1  \\\n",
       "CC1=C(C(=O)Nc2cc3cn[nH]c3cc2F)C(c2ccc(C(F)(F)F)...                                           0.415730                                                   \n",
       "CN(CCOc1ccc(CC(Nc2ccccc2C(=O)c2ccccc2)C(=O)O)cc...                                           0.680000                                                   \n",
       "CC(N)Cc1c[nH]c2ccc(OCc3cccs3)cc12                                                            0.407895                                                   \n",
       "C[C@]12C[C@H](O)C3C(CCC4=CC(=O)C=C[C@@]43C)C1CC...                                           0.443038                                                   \n",
       "COc1cc2c(cc1OC)C(=O)C(CC1CCN(Cc3ccccc3)CC1)C2                                                0.534247                                                   \n",
       "\n",
       "                                                    CCOc1ccccc1CNc1ncnc2ccc(-c3c(C)noc3C)cc12  \\\n",
       "CC1=C(C(=O)Nc2cc3cn[nH]c3cc2F)C(c2ccc(C(F)(F)F)...                                   0.434211   \n",
       "CN(CCOc1ccc(CC(Nc2ccccc2C(=O)c2ccccc2)C(=O)O)cc...                                   0.472973   \n",
       "CC(N)Cc1c[nH]c2ccc(OCc3cccs3)cc12                                                    0.451613   \n",
       "C[C@]12C[C@H](O)C3C(CCC4=CC(=O)C=C[C@@]43C)C1CC...                                   0.259740   \n",
       "COc1cc2c(cc1OC)C(=O)C(CC1CCN(Cc3ccccc3)CC1)C2                                        0.461538   \n",
       "\n",
       "                                                    Cc1ccc2oc(-c3cccc(NC(=O)c4cc(-n5cnnc5)ccc4Cl)c3)nc2c1  \\\n",
       "CC1=C(C(=O)Nc2cc3cn[nH]c3cc2F)C(c2ccc(C(F)(F)F)...                                           0.552239       \n",
       "CN(CCOc1ccc(CC(Nc2ccccc2C(=O)c2ccccc2)C(=O)O)cc...                                           0.350649       \n",
       "CC(N)Cc1c[nH]c2ccc(OCc3cccs3)cc12                                                            0.307692       \n",
       "C[C@]12C[C@H](O)C3C(CCC4=CC(=O)C=C[C@@]43C)C1CC...                                           0.150000       \n",
       "COc1cc2c(cc1OC)C(=O)C(CC1CCN(Cc3ccccc3)CC1)C2                                                0.343284       \n",
       "\n",
       "                                                    C[C@H](N)C(=O)N[C@@H](C)C(=O)N[C@@H](Cc1ccccc1)C(=O)CCl  \\\n",
       "CC1=C(C(=O)Nc2cc3cn[nH]c3cc2F)C(c2ccc(C(F)(F)F)...                                           0.304348         \n",
       "CN(CCOc1ccc(CC(Nc2ccccc2C(=O)c2ccccc2)C(=O)O)cc...                                           0.363636         \n",
       "CC(N)Cc1c[nH]c2ccc(OCc3cccs3)cc12                                                            0.339623         \n",
       "C[C@]12C[C@H](O)C3C(CCC4=CC(=O)C=C[C@@]43C)C1CC...                                           0.278689         \n",
       "COc1cc2c(cc1OC)C(=O)C(CC1CCN(Cc3ccccc3)CC1)C2                                                0.266667         \n",
       "\n",
       "                                                    O=C(OCC#CCSc1nnc(-c2cccc(F)c2)o1)c1ccc(F)cc1  \n",
       "CC1=C(C(=O)Nc2cc3cn[nH]c3cc2F)C(c2ccc(C(F)(F)F)...                                      0.405405  \n",
       "CN(CCOc1ccc(CC(Nc2ccccc2C(=O)c2ccccc2)C(=O)O)cc...                                      0.283951  \n",
       "CC(N)Cc1c[nH]c2ccc(OCc3cccs3)cc12                                                       0.328125  \n",
       "C[C@]12C[C@H](O)C3C(CCC4=CC(=O)C=C[C@@]43C)C1CC...                                      0.164557  \n",
       "COc1cc2c(cc1OC)C(=O)C(CC1CCN(Cc3ccccc3)CC1)C2                                           0.267606  \n",
       "\n",
       "[5 rows x 98 columns]"
      ]
     },
     "execution_count": 35,
     "metadata": {},
     "output_type": "execute_result"
    }
   ],
   "source": [
    "molecules = get_dataframe_similarity_moleculs(\"SMILES_tutorial.txt\", \"MACCSkeys\")\n",
    "molecules.head()"
   ]
  },
  {
   "cell_type": "code",
   "execution_count": 36,
   "metadata": {},
   "outputs": [
    {
     "name": "stdout",
     "output_type": "stream",
     "text": [
      "29\n",
      "[('C[C@]12C[C@H](O)C3C(CCC4=CC(=O)C=C[C@@]43C)C1CC[C@]2(O)C(=O)CO', 'CC(=O)OCC(=O)[C@@]1(O)[C@@H](C)CC2C3CCC4=CC(=O)C=C[C@]4(C)[C@@]3(F)[C@@H](O)C[C@@]21C'), ('C[C@]12C[C@H](O)C3C(CCC4=CC(=O)C=C[C@@]43C)C1CC[C@]2(O)C(=O)CO', 'CC(=O)OCC(=O)[C@@]1(O)[C@H](C)C[C@H]2[C@@H]3CCC4=CC(=O)C=C[C@]4(C)[C@@]3(F)[C@@H](O)C[C@@]21C'), ('COC1CC2CCC(C)C(O)(O2)C(=O)C(=O)N2CCCCC2C(=O)OC(C(C)CC2CCC(O)C(OC)C2)CC(=O)C(C)C=C(C)C(O)C(OC)C(=O)C(C)CC(C)C=CC=CC=C1C', 'C=C1[C@@H](C)[C@H]2[C@H](Cc3ccccc3)NC(=O)[C@]23OC(=O)C=C[C@H](O)CCC[C@@H](C)CC=C[C@H]3[C@@H]1O'), ('CC(=O)OCC(=O)[C@@]1(O)[C@@H](C)CC2C3CCC4=CC(=O)C=C[C@]4(C)[C@@]3(F)[C@@H](O)C[C@@]21C', 'CC(=O)OCC(=O)[C@@]1(O)[C@H](C)C[C@H]2[C@@H]3CCC4=CC(=O)C=C[C@]4(C)[C@@]3(F)[C@@H](O)C[C@@]21C'), ('CC(=O)OCC(=O)[C@@]1(O)[C@@H](C)CC2C3CCC4=CC(=O)C=C[C@]4(C)[C@@]3(F)[C@@H](O)C[C@@]21C', 'CC1(C)O[C@@H]2C[C@H]3[C@@H]4C[C@H](F)C5=CC(=O)C=C[C@]5(C)[C@H]4[C@@H](O)C[C@]3(C)[C@]2(C(=O)CO)O1'), ('C=CC(=O)Nc1cccc(Oc2nc(Nc3ccc(N4CCN(C)CC4)cc3)ncc2Cl)c1', 'O=c1cc(N2CCN(c3cccc(Cl)c3)CC2)[nH]c(=O)n1C1CCCCC1'), ('CC(=O)OCC(=O)[C@@]1(O)[C@H](C)C[C@H]2[C@@H]3CCC4=CC(=O)C=C[C@]4(C)[C@@]3(F)[C@@H](O)C[C@@]21C', 'CC1(C)O[C@@H]2C[C@H]3[C@@H]4C[C@H](F)C5=CC(=O)C=C[C@]5(C)[C@H]4[C@@H](O)C[C@]3(C)[C@]2(C(=O)CO)O1'), ('C=C1[C@@H](C)[C@H]2[C@H](Cc3ccccc3)NC(=O)[C@]23OC(=O)C=C[C@H](O)CCC[C@@H](C)CC=C[C@H]3[C@@H]1O', 'C=C1[C@@H](O)[C@@H]2C=CC[C@H](C)C(=O)[C@@](C)(O)C=C[C@@H](OC(C)=O)[C@]23C(=O)N[C@@H](Cc2ccccc2)[C@@H]3[C@@H]1C'), ('CCC1CCCCN1C(=O)n1cc(C(O)(c2ccccc2)c2ccccc2)nn1', 'O=C(N1CCc2ccccc2C1)n1cc(C(O)(c2ccccc2)c2ccccc2)nn1'), ('C[C@@H](CO)N1C[C@@H](C)[C@H](CN(C)Cc2ccc(C(F)(F)F)cc2)Oc2ccc(NC(=O)Nc3ccccc3)cc2C1=O', 'COc1ccc(S(=O)(=O)N(C)C[C@H]2Oc3c(NC(=O)Nc4ccccc4)cccc3C(=O)N([C@H](C)CO)C[C@H]2C)cc1'), ('C[C@@H](CO)N1C[C@@H](C)[C@H](CN(C)Cc2ccc(C(F)(F)F)cc2)Oc2ccc(NC(=O)Nc3ccccc3)cc2C1=O', 'C[C@H]1CN([C@H](C)CO)C(=O)c2cc(N(C)C)ccc2O[C@H]1CN(C)Cc1ccc(C(=O)Nc2ccccc2N)cc1'), ('C[C@@H](CO)N1C[C@@H](C)[C@H](CN(C)Cc2ccc(C(F)(F)F)cc2)Oc2ccc(NC(=O)Nc3ccccc3)cc2C1=O', 'C[C@H]1CN([C@H](C)CO)C(=O)Cc2cc(NC(=O)Nc3cccc4ccccc34)ccc2O[C@@H]1CN(C)Cc1ccc(-c2ccccc2)cc1'), ('C[C@@H](CO)N1C[C@@H](C)[C@H](CN(C)Cc2ccc(C(F)(F)F)cc2)Oc2ccc(NC(=O)Nc3ccccc3)cc2C1=O', 'COc1ccc(S(=O)(=O)N(C)C[C@@H]2Oc3c(NC(=O)Nc4cccc5ccccc45)cccc3C(=O)N([C@H](C)CO)C[C@H]2C)cc1'), ('C[C@@H](CO)N1C[C@@H](C)[C@H](CN(C)Cc2ccc(C(F)(F)F)cc2)Oc2ccc(NC(=O)Nc3ccccc3)cc2C1=O', 'Cc1noc(C)c1NC(=O)Nc1ccc2c(c1)C(=O)N([C@H](C)CO)C[C@H](C)[C@@H](CN(C)C(=O)C1CCCCC1)OCCCC[C@H](C)O2'), ('C[C@@H](CO)N1C[C@@H](C)[C@H](CN(C)Cc2ccc(C(F)(F)F)cc2)Oc2ccc(NC(=O)Nc3ccccc3)cc2C1=O', 'C[C@H]1CCCCO[C@H](CN(C)C(=O)Nc2ccccc2)[C@H](C)CN([C@H](C)CO)C(=O)c2cc(NC(=O)C3CCCCC3)ccc2O1'), ('C[C@@H](CO)N1C[C@@H](C)[C@H](CN(C)Cc2ccc(C(F)(F)F)cc2)Oc2ccc(NC(=O)Nc3ccccc3)cc2C1=O', 'C[C@@H]1CN([C@H](C)CO)C(=O)Cc2cc(NC(=O)CCCCCC(=O)Nc3ccccc3N)ccc2O[C@@H]1CN(C)Cc1ccc(-c2ccccc2)cc1'), ('COc1ccc(S(=O)(=O)N(C)C[C@H]2Oc3c(NC(=O)Nc4ccccc4)cccc3C(=O)N([C@H](C)CO)C[C@H]2C)cc1', 'COc1ccc(S(=O)(=O)N(C)C[C@@H]2Oc3c(NC(=O)Nc4cccc5ccccc45)cccc3C(=O)N([C@H](C)CO)C[C@H]2C)cc1'), ('COc1ccc([Si](C)(C)[C@@H]2[C@@H](CC(=O)N(CCO)Cc3ccccc3)O[C@]3(C(=O)N(Cc4ccc(N5CCOC5=O)cc4)c4ccccc43)[C@H]2C)cc1', 'C[C@H]1CCCCO[C@H](CN(C)C(=O)Nc2ccccc2)[C@H](C)CN([C@H](C)CO)C(=O)c2cc(NC(=O)C3CCCCC3)ccc2O1'), ('C[C@H]1CN([C@H](C)CO)C(=O)c2cc(N(C)C)ccc2O[C@H]1CN(C)Cc1ccc(C(=O)Nc2ccccc2N)cc1', 'C[C@H]1CN([C@H](C)CO)C(=O)Cc2cc(NC(=O)Nc3cccc4ccccc34)ccc2O[C@@H]1CN(C)Cc1ccc(-c2ccccc2)cc1'), ('C[C@H]1CN([C@H](C)CO)C(=O)c2cc(N(C)C)ccc2O[C@H]1CN(C)Cc1ccc(C(=O)Nc2ccccc2N)cc1', 'Cc1noc(C)c1NC(=O)Nc1ccc2c(c1)C(=O)N([C@H](C)CO)C[C@H](C)[C@@H](CN(C)C(=O)C1CCCCC1)OCCCC[C@H](C)O2'), ('C[C@H]1CN([C@H](C)CO)C(=O)c2cc(N(C)C)ccc2O[C@H]1CN(C)Cc1ccc(C(=O)Nc2ccccc2N)cc1', 'C[C@H]1CCCCO[C@H](CN(C)C(=O)Nc2ccccc2)[C@H](C)CN([C@H](C)CO)C(=O)c2cc(NC(=O)C3CCCCC3)ccc2O1'), ('C[C@H]1CN([C@H](C)CO)C(=O)c2cc(N(C)C)ccc2O[C@H]1CN(C)Cc1ccc(C(=O)Nc2ccccc2N)cc1', 'C[C@@H]1CN([C@H](C)CO)C(=O)Cc2cc(NC(=O)CCCCCC(=O)Nc3ccccc3N)ccc2O[C@@H]1CN(C)Cc1ccc(-c2ccccc2)cc1'), ('C[C@H]1CN([C@H](C)CO)C(=O)Cc2cc(NC(=O)Nc3cccc4ccccc34)ccc2O[C@@H]1CN(C)Cc1ccc(-c2ccccc2)cc1', 'Cc1noc(C)c1NC(=O)Nc1ccc2c(c1)C(=O)N([C@H](C)CO)C[C@H](C)[C@@H](CN(C)C(=O)C1CCCCC1)OCCCC[C@H](C)O2'), ('C[C@H]1CN([C@H](C)CO)C(=O)Cc2cc(NC(=O)Nc3cccc4ccccc34)ccc2O[C@@H]1CN(C)Cc1ccc(-c2ccccc2)cc1', 'C[C@H]1CCCCO[C@H](CN(C)C(=O)Nc2ccccc2)[C@H](C)CN([C@H](C)CO)C(=O)c2cc(NC(=O)C3CCCCC3)ccc2O1'), ('C[C@H]1CN([C@H](C)CO)C(=O)Cc2cc(NC(=O)Nc3cccc4ccccc34)ccc2O[C@@H]1CN(C)Cc1ccc(-c2ccccc2)cc1', 'C[C@@H]1CN([C@H](C)CO)C(=O)Cc2cc(NC(=O)CCCCCC(=O)Nc3ccccc3N)ccc2O[C@@H]1CN(C)Cc1ccc(-c2ccccc2)cc1'), ('Cc1noc(C)c1NC(=O)Nc1ccc2c(c1)C(=O)N([C@H](C)CO)C[C@H](C)[C@@H](CN(C)C(=O)C1CCCCC1)OCCCC[C@H](C)O2', 'C[C@H]1CCCCO[C@H](CN(C)C(=O)Nc2ccccc2)[C@H](C)CN([C@H](C)CO)C(=O)c2cc(NC(=O)C3CCCCC3)ccc2O1'), ('Cc1noc(C)c1NC(=O)Nc1ccc2c(c1)C(=O)N([C@H](C)CO)C[C@H](C)[C@@H](CN(C)C(=O)C1CCCCC1)OCCCC[C@H](C)O2', 'C[C@@H]1CN([C@H](C)CO)C(=O)Cc2cc(NC(=O)CCCCCC(=O)Nc3ccccc3N)ccc2O[C@@H]1CN(C)Cc1ccc(-c2ccccc2)cc1'), ('O=C(OCC#CCSc1nnc(-c2ccccc2F)o1)c1ccc(F)cc1', 'O=C(OCC#CCSc1nnc(-c2cccc(F)c2)o1)c1ccc(F)cc1'), ('C[C@H]1CCCCO[C@H](CN(C)C(=O)Nc2ccccc2)[C@H](C)CN([C@H](C)CO)C(=O)c2cc(NC(=O)C3CCCCC3)ccc2O1', 'C[C@@H]1CN([C@H](C)CO)C(=O)Cc2cc(NC(=O)CCCCCC(=O)Nc3ccccc3N)ccc2O[C@@H]1CN(C)Cc1ccc(-c2ccccc2)cc1')]\n"
     ]
    }
   ],
   "source": [
    "pairs_MACCSkeys = get_pairs_similarity_moleculs(molecules, 0.75)"
   ]
  },
  {
   "cell_type": "code",
   "execution_count": 37,
   "metadata": {},
   "outputs": [
    {
     "data": {
      "image/png": "[encoded data removed]",
      "text/plain": [
       "<IPython.core.display.Image object>"
      ]
     },
     "execution_count": 37,
     "metadata": {},
     "output_type": "execute_result"
    }
   ],
   "source": [
    "draw_molecules(pairs_MACCSkeys, \"mols_MACCSkeys_0.75.png\")\n",
    "Image(filename = \"mols_MACCSkeys_0.75.png\")"
   ]
  },
  {
   "cell_type": "markdown",
   "metadata": {},
   "source": [
    "# Morgan Fingerprints"
   ]
  },
  {
   "cell_type": "code",
   "execution_count": 38,
   "metadata": {},
   "outputs": [
    {
     "data": {
      "text/html": [
       "<div>\n",
       "<style scoped>\n",
       "    .dataframe tbody tr th:only-of-type {\n",
       "        vertical-align: middle;\n",
       "    }\n",
       "\n",
       "    .dataframe tbody tr th {\n",
       "        vertical-align: top;\n",
       "    }\n",
       "\n",
       "    .dataframe thead th {\n",
       "        text-align: right;\n",
       "    }\n",
       "</style>\n",
       "<table border=\"1\" class=\"dataframe\">\n",
       "  <thead>\n",
       "    <tr style=\"text-align: right;\">\n",
       "      <th></th>\n",
       "      <th>CC1=C(C(=O)Nc2cc3cn[nH]c3cc2F)C(c2ccc(C(F)(F)F)cc2)CC(=O)N1</th>\n",
       "      <th>CN(CCOc1ccc(CC(Nc2ccccc2C(=O)c2ccccc2)C(=O)O)cc1)c1ccccn1</th>\n",
       "      <th>CC(N)Cc1c[nH]c2ccc(OCc3cccs3)cc12</th>\n",
       "      <th>C[C@]12C[C@H](O)C3C(CCC4=CC(=O)C=C[C@@]43C)C1CC[C@]2(O)C(=O)CO</th>\n",
       "      <th>COc1cc2c(cc1OC)C(=O)C(CC1CCN(Cc3ccccc3)CC1)C2</th>\n",
       "      <th>COc1cccc2c1C(=O)c1c(O)c3c(c(O)c1C2=O)C[C@@](O)(C(=O)CO)C[C@@H]3OC1C[C@H](N)[C@H](O)[C@H](C)O1</th>\n",
       "      <th>CC(c1cc2ccccc2s1)N(O)C(N)=O</th>\n",
       "      <th>CNC(=Nc1ccc(C2=NNC(=O)CC2C)cc1)NC#N</th>\n",
       "      <th>COC1CC2CCC(C)C(O)(O2)C(=O)C(=O)N2CCCCC2C(=O)OC(C(C)CC2CCC(O)C(OC)C2)CC(=O)C(C)C=C(C)C(O)C(OC)C(=O)C(C)CC(C)C=CC=CC=C1C</th>\n",
       "      <th>CC(=O)OCC(=O)[C@@]1(O)[C@@H](C)CC2C3CCC4=CC(=O)C=C[C@]4(C)[C@@]3(F)[C@@H](O)C[C@@]21C</th>\n",
       "      <th>...</th>\n",
       "      <th>NCCNS(=O)(=O)c1cccc2cnccc12</th>\n",
       "      <th>CCOC(=O)c1sc(SCc2ccccc2)c2c1CC(C)(C)CC2=O</th>\n",
       "      <th>Oc1nc(SCc2ccc(Cl)cc2)nc2c1CCC2</th>\n",
       "      <th>O=C(OCC#CCSc1nnc(-c2ccccc2F)o1)c1ccc(F)cc1</th>\n",
       "      <th>C[C@H]1CCCCO[C@H](CN(C)C(=O)Nc2ccccc2)[C@H](C)CN([C@H](C)CO)C(=O)c2cc(NC(=O)C3CCCCC3)ccc2O1</th>\n",
       "      <th>C[C@@H]1CN([C@H](C)CO)C(=O)Cc2cc(NC(=O)CCCCCC(=O)Nc3ccccc3N)ccc2O[C@@H]1CN(C)Cc1ccc(-c2ccccc2)cc1</th>\n",
       "      <th>CCOc1ccccc1CNc1ncnc2ccc(-c3c(C)noc3C)cc12</th>\n",
       "      <th>Cc1ccc2oc(-c3cccc(NC(=O)c4cc(-n5cnnc5)ccc4Cl)c3)nc2c1</th>\n",
       "      <th>C[C@H](N)C(=O)N[C@@H](C)C(=O)N[C@@H](Cc1ccccc1)C(=O)CCl</th>\n",
       "      <th>O=C(OCC#CCSc1nnc(-c2cccc(F)c2)o1)c1ccc(F)cc1</th>\n",
       "    </tr>\n",
       "  </thead>\n",
       "  <tbody>\n",
       "    <tr>\n",
       "      <th>CC1=C(C(=O)Nc2cc3cn[nH]c3cc2F)C(c2ccc(C(F)(F)F)cc2)CC(=O)N1</th>\n",
       "      <td>1.000000</td>\n",
       "      <td>0.116505</td>\n",
       "      <td>0.095745</td>\n",
       "      <td>0.103093</td>\n",
       "      <td>0.105263</td>\n",
       "      <td>0.094828</td>\n",
       "      <td>0.108434</td>\n",
       "      <td>0.159091</td>\n",
       "      <td>0.091549</td>\n",
       "      <td>0.114286</td>\n",
       "      <td>...</td>\n",
       "      <td>0.105882</td>\n",
       "      <td>0.130435</td>\n",
       "      <td>0.117647</td>\n",
       "      <td>0.148936</td>\n",
       "      <td>0.107438</td>\n",
       "      <td>0.142857</td>\n",
       "      <td>0.099010</td>\n",
       "      <td>0.150000</td>\n",
       "      <td>0.103448</td>\n",
       "      <td>0.147368</td>\n",
       "    </tr>\n",
       "    <tr>\n",
       "      <th>CN(CCOc1ccc(CC(Nc2ccccc2C(=O)c2ccccc2)C(=O)O)cc1)c1ccccn1</th>\n",
       "      <td>0.116505</td>\n",
       "      <td>1.000000</td>\n",
       "      <td>0.133333</td>\n",
       "      <td>0.081633</td>\n",
       "      <td>0.118280</td>\n",
       "      <td>0.125000</td>\n",
       "      <td>0.151899</td>\n",
       "      <td>0.122222</td>\n",
       "      <td>0.054795</td>\n",
       "      <td>0.104762</td>\n",
       "      <td>...</td>\n",
       "      <td>0.120482</td>\n",
       "      <td>0.170455</td>\n",
       "      <td>0.105882</td>\n",
       "      <td>0.150538</td>\n",
       "      <td>0.136752</td>\n",
       "      <td>0.173913</td>\n",
       "      <td>0.122449</td>\n",
       "      <td>0.140000</td>\n",
       "      <td>0.233766</td>\n",
       "      <td>0.161290</td>\n",
       "    </tr>\n",
       "    <tr>\n",
       "      <th>CC(N)Cc1c[nH]c2ccc(OCc3cccs3)cc12</th>\n",
       "      <td>0.095745</td>\n",
       "      <td>0.133333</td>\n",
       "      <td>1.000000</td>\n",
       "      <td>0.056180</td>\n",
       "      <td>0.150000</td>\n",
       "      <td>0.096154</td>\n",
       "      <td>0.144928</td>\n",
       "      <td>0.072289</td>\n",
       "      <td>0.092308</td>\n",
       "      <td>0.061224</td>\n",
       "      <td>...</td>\n",
       "      <td>0.094595</td>\n",
       "      <td>0.123457</td>\n",
       "      <td>0.051282</td>\n",
       "      <td>0.104651</td>\n",
       "      <td>0.090090</td>\n",
       "      <td>0.108108</td>\n",
       "      <td>0.180723</td>\n",
       "      <td>0.085106</td>\n",
       "      <td>0.152778</td>\n",
       "      <td>0.116279</td>\n",
       "    </tr>\n",
       "    <tr>\n",
       "      <th>C[C@]12C[C@H](O)C3C(CCC4=CC(=O)C=C[C@@]43C)C1CC[C@]2(O)C(=O)CO</th>\n",
       "      <td>0.103093</td>\n",
       "      <td>0.081633</td>\n",
       "      <td>0.056180</td>\n",
       "      <td>1.000000</td>\n",
       "      <td>0.103448</td>\n",
       "      <td>0.180000</td>\n",
       "      <td>0.092105</td>\n",
       "      <td>0.107143</td>\n",
       "      <td>0.106061</td>\n",
       "      <td>0.350000</td>\n",
       "      <td>...</td>\n",
       "      <td>0.049383</td>\n",
       "      <td>0.130952</td>\n",
       "      <td>0.075000</td>\n",
       "      <td>0.076087</td>\n",
       "      <td>0.136364</td>\n",
       "      <td>0.123894</td>\n",
       "      <td>0.073684</td>\n",
       "      <td>0.104167</td>\n",
       "      <td>0.101266</td>\n",
       "      <td>0.075269</td>\n",
       "    </tr>\n",
       "    <tr>\n",
       "      <th>COc1cc2c(cc1OC)C(=O)C(CC1CCN(Cc3ccccc3)CC1)C2</th>\n",
       "      <td>0.105263</td>\n",
       "      <td>0.118280</td>\n",
       "      <td>0.150000</td>\n",
       "      <td>0.103448</td>\n",
       "      <td>1.000000</td>\n",
       "      <td>0.171717</td>\n",
       "      <td>0.109589</td>\n",
       "      <td>0.109756</td>\n",
       "      <td>0.125000</td>\n",
       "      <td>0.115789</td>\n",
       "      <td>...</td>\n",
       "      <td>0.092105</td>\n",
       "      <td>0.177215</td>\n",
       "      <td>0.105263</td>\n",
       "      <td>0.102273</td>\n",
       "      <td>0.160377</td>\n",
       "      <td>0.157407</td>\n",
       "      <td>0.149425</td>\n",
       "      <td>0.106383</td>\n",
       "      <td>0.164384</td>\n",
       "      <td>0.088889</td>\n",
       "    </tr>\n",
       "  </tbody>\n",
       "</table>\n",
       "<p>5 rows × 98 columns</p>\n",
       "</div>"
      ],
      "text/plain": [
       "                                                    CC1=C(C(=O)Nc2cc3cn[nH]c3cc2F)C(c2ccc(C(F)(F)F)cc2)CC(=O)N1  \\\n",
       "CC1=C(C(=O)Nc2cc3cn[nH]c3cc2F)C(c2ccc(C(F)(F)F)...                                           1.000000             \n",
       "CN(CCOc1ccc(CC(Nc2ccccc2C(=O)c2ccccc2)C(=O)O)cc...                                           0.116505             \n",
       "CC(N)Cc1c[nH]c2ccc(OCc3cccs3)cc12                                                            0.095745             \n",
       "C[C@]12C[C@H](O)C3C(CCC4=CC(=O)C=C[C@@]43C)C1CC...                                           0.103093             \n",
       "COc1cc2c(cc1OC)C(=O)C(CC1CCN(Cc3ccccc3)CC1)C2                                                0.105263             \n",
       "\n",
       "                                                    CN(CCOc1ccc(CC(Nc2ccccc2C(=O)c2ccccc2)C(=O)O)cc1)c1ccccn1  \\\n",
       "CC1=C(C(=O)Nc2cc3cn[nH]c3cc2F)C(c2ccc(C(F)(F)F)...                                           0.116505           \n",
       "CN(CCOc1ccc(CC(Nc2ccccc2C(=O)c2ccccc2)C(=O)O)cc...                                           1.000000           \n",
       "CC(N)Cc1c[nH]c2ccc(OCc3cccs3)cc12                                                            0.133333           \n",
       "C[C@]12C[C@H](O)C3C(CCC4=CC(=O)C=C[C@@]43C)C1CC...                                           0.081633           \n",
       "COc1cc2c(cc1OC)C(=O)C(CC1CCN(Cc3ccccc3)CC1)C2                                                0.118280           \n",
       "\n",
       "                                                    CC(N)Cc1c[nH]c2ccc(OCc3cccs3)cc12  \\\n",
       "CC1=C(C(=O)Nc2cc3cn[nH]c3cc2F)C(c2ccc(C(F)(F)F)...                           0.095745   \n",
       "CN(CCOc1ccc(CC(Nc2ccccc2C(=O)c2ccccc2)C(=O)O)cc...                           0.133333   \n",
       "CC(N)Cc1c[nH]c2ccc(OCc3cccs3)cc12                                            1.000000   \n",
       "C[C@]12C[C@H](O)C3C(CCC4=CC(=O)C=C[C@@]43C)C1CC...                           0.056180   \n",
       "COc1cc2c(cc1OC)C(=O)C(CC1CCN(Cc3ccccc3)CC1)C2                                0.150000   \n",
       "\n",
       "                                                    C[C@]12C[C@H](O)C3C(CCC4=CC(=O)C=C[C@@]43C)C1CC[C@]2(O)C(=O)CO  \\\n",
       "CC1=C(C(=O)Nc2cc3cn[nH]c3cc2F)C(c2ccc(C(F)(F)F)...                                           0.103093                \n",
       "CN(CCOc1ccc(CC(Nc2ccccc2C(=O)c2ccccc2)C(=O)O)cc...                                           0.081633                \n",
       "CC(N)Cc1c[nH]c2ccc(OCc3cccs3)cc12                                                            0.056180                \n",
       "C[C@]12C[C@H](O)C3C(CCC4=CC(=O)C=C[C@@]43C)C1CC...                                           1.000000                \n",
       "COc1cc2c(cc1OC)C(=O)C(CC1CCN(Cc3ccccc3)CC1)C2                                                0.103448                \n",
       "\n",
       "                                                    COc1cc2c(cc1OC)C(=O)C(CC1CCN(Cc3ccccc3)CC1)C2  \\\n",
       "CC1=C(C(=O)Nc2cc3cn[nH]c3cc2F)C(c2ccc(C(F)(F)F)...                                       0.105263   \n",
       "CN(CCOc1ccc(CC(Nc2ccccc2C(=O)c2ccccc2)C(=O)O)cc...                                       0.118280   \n",
       "CC(N)Cc1c[nH]c2ccc(OCc3cccs3)cc12                                                        0.150000   \n",
       "C[C@]12C[C@H](O)C3C(CCC4=CC(=O)C=C[C@@]43C)C1CC...                                       0.103448   \n",
       "COc1cc2c(cc1OC)C(=O)C(CC1CCN(Cc3ccccc3)CC1)C2                                            1.000000   \n",
       "\n",
       "                                                    COc1cccc2c1C(=O)c1c(O)c3c(c(O)c1C2=O)C[C@@](O)(C(=O)CO)C[C@@H]3OC1C[C@H](N)[C@H](O)[C@H](C)O1  \\\n",
       "CC1=C(C(=O)Nc2cc3cn[nH]c3cc2F)C(c2ccc(C(F)(F)F)...                                           0.094828                                               \n",
       "CN(CCOc1ccc(CC(Nc2ccccc2C(=O)c2ccccc2)C(=O)O)cc...                                           0.125000                                               \n",
       "CC(N)Cc1c[nH]c2ccc(OCc3cccs3)cc12                                                            0.096154                                               \n",
       "C[C@]12C[C@H](O)C3C(CCC4=CC(=O)C=C[C@@]43C)C1CC...                                           0.180000                                               \n",
       "COc1cc2c(cc1OC)C(=O)C(CC1CCN(Cc3ccccc3)CC1)C2                                                0.171717                                               \n",
       "\n",
       "                                                    CC(c1cc2ccccc2s1)N(O)C(N)=O  \\\n",
       "CC1=C(C(=O)Nc2cc3cn[nH]c3cc2F)C(c2ccc(C(F)(F)F)...                     0.108434   \n",
       "CN(CCOc1ccc(CC(Nc2ccccc2C(=O)c2ccccc2)C(=O)O)cc...                     0.151899   \n",
       "CC(N)Cc1c[nH]c2ccc(OCc3cccs3)cc12                                      0.144928   \n",
       "C[C@]12C[C@H](O)C3C(CCC4=CC(=O)C=C[C@@]43C)C1CC...                     0.092105   \n",
       "COc1cc2c(cc1OC)C(=O)C(CC1CCN(Cc3ccccc3)CC1)C2                          0.109589   \n",
       "\n",
       "                                                    CNC(=Nc1ccc(C2=NNC(=O)CC2C)cc1)NC#N  \\\n",
       "CC1=C(C(=O)Nc2cc3cn[nH]c3cc2F)C(c2ccc(C(F)(F)F)...                             0.159091   \n",
       "CN(CCOc1ccc(CC(Nc2ccccc2C(=O)c2ccccc2)C(=O)O)cc...                             0.122222   \n",
       "CC(N)Cc1c[nH]c2ccc(OCc3cccs3)cc12                                              0.072289   \n",
       "C[C@]12C[C@H](O)C3C(CCC4=CC(=O)C=C[C@@]43C)C1CC...                             0.107143   \n",
       "COc1cc2c(cc1OC)C(=O)C(CC1CCN(Cc3ccccc3)CC1)C2                                  0.109756   \n",
       "\n",
       "                                                    COC1CC2CCC(C)C(O)(O2)C(=O)C(=O)N2CCCCC2C(=O)OC(C(C)CC2CCC(O)C(OC)C2)CC(=O)C(C)C=C(C)C(O)C(OC)C(=O)C(C)CC(C)C=CC=CC=C1C  \\\n",
       "CC1=C(C(=O)Nc2cc3cn[nH]c3cc2F)C(c2ccc(C(F)(F)F)...                                           0.091549                                                                        \n",
       "CN(CCOc1ccc(CC(Nc2ccccc2C(=O)c2ccccc2)C(=O)O)cc...                                           0.054795                                                                        \n",
       "CC(N)Cc1c[nH]c2ccc(OCc3cccs3)cc12                                                            0.092308                                                                        \n",
       "C[C@]12C[C@H](O)C3C(CCC4=CC(=O)C=C[C@@]43C)C1CC...                                           0.106061                                                                        \n",
       "COc1cc2c(cc1OC)C(=O)C(CC1CCN(Cc3ccccc3)CC1)C2                                                0.125000                                                                        \n",
       "\n",
       "                                                    CC(=O)OCC(=O)[C@@]1(O)[C@@H](C)CC2C3CCC4=CC(=O)C=C[C@]4(C)[C@@]3(F)[C@@H](O)C[C@@]21C  \\\n",
       "CC1=C(C(=O)Nc2cc3cn[nH]c3cc2F)C(c2ccc(C(F)(F)F)...                                           0.114286                                       \n",
       "CN(CCOc1ccc(CC(Nc2ccccc2C(=O)c2ccccc2)C(=O)O)cc...                                           0.104762                                       \n",
       "CC(N)Cc1c[nH]c2ccc(OCc3cccs3)cc12                                                            0.061224                                       \n",
       "C[C@]12C[C@H](O)C3C(CCC4=CC(=O)C=C[C@@]43C)C1CC...                                           0.350000                                       \n",
       "COc1cc2c(cc1OC)C(=O)C(CC1CCN(Cc3ccccc3)CC1)C2                                                0.115789                                       \n",
       "\n",
       "                                                    ...  \\\n",
       "CC1=C(C(=O)Nc2cc3cn[nH]c3cc2F)C(c2ccc(C(F)(F)F)...  ...   \n",
       "CN(CCOc1ccc(CC(Nc2ccccc2C(=O)c2ccccc2)C(=O)O)cc...  ...   \n",
       "CC(N)Cc1c[nH]c2ccc(OCc3cccs3)cc12                   ...   \n",
       "C[C@]12C[C@H](O)C3C(CCC4=CC(=O)C=C[C@@]43C)C1CC...  ...   \n",
       "COc1cc2c(cc1OC)C(=O)C(CC1CCN(Cc3ccccc3)CC1)C2       ...   \n",
       "\n",
       "                                                    NCCNS(=O)(=O)c1cccc2cnccc12  \\\n",
       "CC1=C(C(=O)Nc2cc3cn[nH]c3cc2F)C(c2ccc(C(F)(F)F)...                     0.105882   \n",
       "CN(CCOc1ccc(CC(Nc2ccccc2C(=O)c2ccccc2)C(=O)O)cc...                     0.120482   \n",
       "CC(N)Cc1c[nH]c2ccc(OCc3cccs3)cc12                                      0.094595   \n",
       "C[C@]12C[C@H](O)C3C(CCC4=CC(=O)C=C[C@@]43C)C1CC...                     0.049383   \n",
       "COc1cc2c(cc1OC)C(=O)C(CC1CCN(Cc3ccccc3)CC1)C2                          0.092105   \n",
       "\n",
       "                                                    CCOC(=O)c1sc(SCc2ccccc2)c2c1CC(C)(C)CC2=O  \\\n",
       "CC1=C(C(=O)Nc2cc3cn[nH]c3cc2F)C(c2ccc(C(F)(F)F)...                                   0.130435   \n",
       "CN(CCOc1ccc(CC(Nc2ccccc2C(=O)c2ccccc2)C(=O)O)cc...                                   0.170455   \n",
       "CC(N)Cc1c[nH]c2ccc(OCc3cccs3)cc12                                                    0.123457   \n",
       "C[C@]12C[C@H](O)C3C(CCC4=CC(=O)C=C[C@@]43C)C1CC...                                   0.130952   \n",
       "COc1cc2c(cc1OC)C(=O)C(CC1CCN(Cc3ccccc3)CC1)C2                                        0.177215   \n",
       "\n",
       "                                                    Oc1nc(SCc2ccc(Cl)cc2)nc2c1CCC2  \\\n",
       "CC1=C(C(=O)Nc2cc3cn[nH]c3cc2F)C(c2ccc(C(F)(F)F)...                        0.117647   \n",
       "CN(CCOc1ccc(CC(Nc2ccccc2C(=O)c2ccccc2)C(=O)O)cc...                        0.105882   \n",
       "CC(N)Cc1c[nH]c2ccc(OCc3cccs3)cc12                                         0.051282   \n",
       "C[C@]12C[C@H](O)C3C(CCC4=CC(=O)C=C[C@@]43C)C1CC...                        0.075000   \n",
       "COc1cc2c(cc1OC)C(=O)C(CC1CCN(Cc3ccccc3)CC1)C2                             0.105263   \n",
       "\n",
       "                                                    O=C(OCC#CCSc1nnc(-c2ccccc2F)o1)c1ccc(F)cc1  \\\n",
       "CC1=C(C(=O)Nc2cc3cn[nH]c3cc2F)C(c2ccc(C(F)(F)F)...                                    0.148936   \n",
       "CN(CCOc1ccc(CC(Nc2ccccc2C(=O)c2ccccc2)C(=O)O)cc...                                    0.150538   \n",
       "CC(N)Cc1c[nH]c2ccc(OCc3cccs3)cc12                                                     0.104651   \n",
       "C[C@]12C[C@H](O)C3C(CCC4=CC(=O)C=C[C@@]43C)C1CC...                                    0.076087   \n",
       "COc1cc2c(cc1OC)C(=O)C(CC1CCN(Cc3ccccc3)CC1)C2                                         0.102273   \n",
       "\n",
       "                                                    C[C@H]1CCCCO[C@H](CN(C)C(=O)Nc2ccccc2)[C@H](C)CN([C@H](C)CO)C(=O)c2cc(NC(=O)C3CCCCC3)ccc2O1  \\\n",
       "CC1=C(C(=O)Nc2cc3cn[nH]c3cc2F)C(c2ccc(C(F)(F)F)...                                           0.107438                                             \n",
       "CN(CCOc1ccc(CC(Nc2ccccc2C(=O)c2ccccc2)C(=O)O)cc...                                           0.136752                                             \n",
       "CC(N)Cc1c[nH]c2ccc(OCc3cccs3)cc12                                                            0.090090                                             \n",
       "C[C@]12C[C@H](O)C3C(CCC4=CC(=O)C=C[C@@]43C)C1CC...                                           0.136364                                             \n",
       "COc1cc2c(cc1OC)C(=O)C(CC1CCN(Cc3ccccc3)CC1)C2                                                0.160377                                             \n",
       "\n",
       "                                                    C[C@@H]1CN([C@H](C)CO)C(=O)Cc2cc(NC(=O)CCCCCC(=O)Nc3ccccc3N)ccc2O[C@@H]1CN(C)Cc1ccc(-c2ccccc2)cc1  \\\n",
       "CC1=C(C(=O)Nc2cc3cn[nH]c3cc2F)C(c2ccc(C(F)(F)F)...                                           0.142857                                                   \n",
       "CN(CCOc1ccc(CC(Nc2ccccc2C(=O)c2ccccc2)C(=O)O)cc...                                           0.173913                                                   \n",
       "CC(N)Cc1c[nH]c2ccc(OCc3cccs3)cc12                                                            0.108108                                                   \n",
       "C[C@]12C[C@H](O)C3C(CCC4=CC(=O)C=C[C@@]43C)C1CC...                                           0.123894                                                   \n",
       "COc1cc2c(cc1OC)C(=O)C(CC1CCN(Cc3ccccc3)CC1)C2                                                0.157407                                                   \n",
       "\n",
       "                                                    CCOc1ccccc1CNc1ncnc2ccc(-c3c(C)noc3C)cc12  \\\n",
       "CC1=C(C(=O)Nc2cc3cn[nH]c3cc2F)C(c2ccc(C(F)(F)F)...                                   0.099010   \n",
       "CN(CCOc1ccc(CC(Nc2ccccc2C(=O)c2ccccc2)C(=O)O)cc...                                   0.122449   \n",
       "CC(N)Cc1c[nH]c2ccc(OCc3cccs3)cc12                                                    0.180723   \n",
       "C[C@]12C[C@H](O)C3C(CCC4=CC(=O)C=C[C@@]43C)C1CC...                                   0.073684   \n",
       "COc1cc2c(cc1OC)C(=O)C(CC1CCN(Cc3ccccc3)CC1)C2                                        0.149425   \n",
       "\n",
       "                                                    Cc1ccc2oc(-c3cccc(NC(=O)c4cc(-n5cnnc5)ccc4Cl)c3)nc2c1  \\\n",
       "CC1=C(C(=O)Nc2cc3cn[nH]c3cc2F)C(c2ccc(C(F)(F)F)...                                           0.150000       \n",
       "CN(CCOc1ccc(CC(Nc2ccccc2C(=O)c2ccccc2)C(=O)O)cc...                                           0.140000       \n",
       "CC(N)Cc1c[nH]c2ccc(OCc3cccs3)cc12                                                            0.085106       \n",
       "C[C@]12C[C@H](O)C3C(CCC4=CC(=O)C=C[C@@]43C)C1CC...                                           0.104167       \n",
       "COc1cc2c(cc1OC)C(=O)C(CC1CCN(Cc3ccccc3)CC1)C2                                                0.106383       \n",
       "\n",
       "                                                    C[C@H](N)C(=O)N[C@@H](C)C(=O)N[C@@H](Cc1ccccc1)C(=O)CCl  \\\n",
       "CC1=C(C(=O)Nc2cc3cn[nH]c3cc2F)C(c2ccc(C(F)(F)F)...                                           0.103448         \n",
       "CN(CCOc1ccc(CC(Nc2ccccc2C(=O)c2ccccc2)C(=O)O)cc...                                           0.233766         \n",
       "CC(N)Cc1c[nH]c2ccc(OCc3cccs3)cc12                                                            0.152778         \n",
       "C[C@]12C[C@H](O)C3C(CCC4=CC(=O)C=C[C@@]43C)C1CC...                                           0.101266         \n",
       "COc1cc2c(cc1OC)C(=O)C(CC1CCN(Cc3ccccc3)CC1)C2                                                0.164384         \n",
       "\n",
       "                                                    O=C(OCC#CCSc1nnc(-c2cccc(F)c2)o1)c1ccc(F)cc1  \n",
       "CC1=C(C(=O)Nc2cc3cn[nH]c3cc2F)C(c2ccc(C(F)(F)F)...                                      0.147368  \n",
       "CN(CCOc1ccc(CC(Nc2ccccc2C(=O)c2ccccc2)C(=O)O)cc...                                      0.161290  \n",
       "CC(N)Cc1c[nH]c2ccc(OCc3cccs3)cc12                                                       0.116279  \n",
       "C[C@]12C[C@H](O)C3C(CCC4=CC(=O)C=C[C@@]43C)C1CC...                                      0.075269  \n",
       "COc1cc2c(cc1OC)C(=O)C(CC1CCN(Cc3ccccc3)CC1)C2                                           0.088889  \n",
       "\n",
       "[5 rows x 98 columns]"
      ]
     },
     "execution_count": 38,
     "metadata": {},
     "output_type": "execute_result"
    }
   ],
   "source": [
    "molecules = get_dataframe_similarity_moleculs(\"SMILES_tutorial.txt\", \"MorganFingerprint\")\n",
    "molecules.head()"
   ]
  },
  {
   "cell_type": "code",
   "execution_count": 39,
   "metadata": {},
   "outputs": [
    {
     "name": "stdout",
     "output_type": "stream",
     "text": [
      "2\n",
      "[('CC(=O)OCC(=O)[C@@]1(O)[C@@H](C)CC2C3CCC4=CC(=O)C=C[C@]4(C)[C@@]3(F)[C@@H](O)C[C@@]21C', 'CC(=O)OCC(=O)[C@@]1(O)[C@H](C)C[C@H]2[C@@H]3CCC4=CC(=O)C=C[C@]4(C)[C@@]3(F)[C@@H](O)C[C@@]21C'), ('COc1ccc(S(=O)(=O)N(C)C[C@H]2Oc3c(NC(=O)Nc4ccccc4)cccc3C(=O)N([C@H](C)CO)C[C@H]2C)cc1', 'COc1ccc(S(=O)(=O)N(C)C[C@@H]2Oc3c(NC(=O)Nc4cccc5ccccc45)cccc3C(=O)N([C@H](C)CO)C[C@H]2C)cc1')]\n"
     ]
    }
   ],
   "source": [
    "pairs_MorganFingerprin = get_pairs_similarity_moleculs(molecules, 0.75)"
   ]
  },
  {
   "cell_type": "code",
   "execution_count": 40,
   "metadata": {},
   "outputs": [
    {
     "data": {
      "image/png": "[encoded data removed]",
      "text/plain": [
       "<IPython.core.display.Image object>"
      ]
     },
     "execution_count": 40,
     "metadata": {},
     "output_type": "execute_result"
    }
   ],
   "source": [
    "draw_molecules(pairs_MorganFingerprin, \"mols_MorganFingerprint_0.75.png\")\n",
    "Image(filename = \"mols_MorganFingerprint_0.75.png\")"
   ]
  },
  {
   "cell_type": "markdown",
   "metadata": {},
   "source": [
    "# Найдем общие молекулы."
   ]
  },
  {
   "cell_type": "markdown",
   "metadata": {},
   "source": [
    "Посмотрим пересечение списков пар молекул с коэффициентом Танимото больше 0,75 для каждых 2 типов \"molecular fingerprints\"."
   ]
  },
  {
   "cell_type": "code",
   "execution_count": 41,
   "metadata": {},
   "outputs": [
    {
     "name": "stdout",
     "output_type": "stream",
     "text": [
      "2\n",
      "{('COc1ccc(S(=O)(=O)N(C)C[C@H]2Oc3c(NC(=O)Nc4ccccc4)cccc3C(=O)N([C@H](C)CO)C[C@H]2C)cc1', 'COc1ccc(S(=O)(=O)N(C)C[C@@H]2Oc3c(NC(=O)Nc4cccc5ccccc45)cccc3C(=O)N([C@H](C)CO)C[C@H]2C)cc1'), ('CC(=O)OCC(=O)[C@@]1(O)[C@@H](C)CC2C3CCC4=CC(=O)C=C[C@]4(C)[C@@]3(F)[C@@H](O)C[C@@]21C', 'CC(=O)OCC(=O)[C@@]1(O)[C@H](C)C[C@H]2[C@@H]3CCC4=CC(=O)C=C[C@]4(C)[C@@]3(F)[C@@H](O)C[C@@]21C')}\n"
     ]
    }
   ],
   "source": [
    "pairs = set(pairs_MorganFingerprin) & set(pairs_MACCSkeys)\n",
    "print(len(pairs))\n",
    "print(pairs)"
   ]
  },
  {
   "cell_type": "code",
   "execution_count": 42,
   "metadata": {},
   "outputs": [
    {
     "data": {
      "image/png": "[encoded data removed]",
      "text/plain": [
       "<IPython.core.display.Image object>"
      ]
     },
     "execution_count": 42,
     "metadata": {},
     "output_type": "execute_result"
    }
   ],
   "source": [
    "draw_molecules(pairs, \"mols_MorganFingerprin&MACCSkeys_0.75.png\")\n",
    "Image(filename = \"mols_MorganFingerprin&MACCSkeys_0.75.png\")"
   ]
  },
  {
   "cell_type": "code",
   "execution_count": 43,
   "metadata": {},
   "outputs": [
    {
     "name": "stdout",
     "output_type": "stream",
     "text": [
      "6\n",
      "{('C[C@H]1CN([C@H](C)CO)C(=O)Cc2cc(NC(=O)Nc3cccc4ccccc34)ccc2O[C@@H]1CN(C)Cc1ccc(-c2ccccc2)cc1', 'C[C@@H]1CN([C@H](C)CO)C(=O)Cc2cc(NC(=O)CCCCCC(=O)Nc3ccccc3N)ccc2O[C@@H]1CN(C)Cc1ccc(-c2ccccc2)cc1'), ('O=C(OCC#CCSc1nnc(-c2ccccc2F)o1)c1ccc(F)cc1', 'O=C(OCC#CCSc1nnc(-c2cccc(F)c2)o1)c1ccc(F)cc1'), ('C[C@@H](CO)N1C[C@@H](C)[C@H](CN(C)Cc2ccc(C(F)(F)F)cc2)Oc2ccc(NC(=O)Nc3ccccc3)cc2C1=O', 'C[C@H]1CN([C@H](C)CO)C(=O)c2cc(N(C)C)ccc2O[C@H]1CN(C)Cc1ccc(C(=O)Nc2ccccc2N)cc1'), ('CC(=O)OCC(=O)[C@@]1(O)[C@@H](C)CC2C3CCC4=CC(=O)C=C[C@]4(C)[C@@]3(F)[C@@H](O)C[C@@]21C', 'CC(=O)OCC(=O)[C@@]1(O)[C@H](C)C[C@H]2[C@@H]3CCC4=CC(=O)C=C[C@]4(C)[C@@]3(F)[C@@H](O)C[C@@]21C'), ('COc1ccc(S(=O)(=O)N(C)C[C@H]2Oc3c(NC(=O)Nc4ccccc4)cccc3C(=O)N([C@H](C)CO)C[C@H]2C)cc1', 'COc1ccc(S(=O)(=O)N(C)C[C@@H]2Oc3c(NC(=O)Nc4cccc5ccccc45)cccc3C(=O)N([C@H](C)CO)C[C@H]2C)cc1'), ('Cc1noc(C)c1NC(=O)Nc1ccc2c(c1)C(=O)N([C@H](C)CO)C[C@H](C)[C@@H](CN(C)C(=O)C1CCCCC1)OCCCC[C@H](C)O2', 'C[C@H]1CCCCO[C@H](CN(C)C(=O)Nc2ccccc2)[C@H](C)CN([C@H](C)CO)C(=O)c2cc(NC(=O)C3CCCCC3)ccc2O1')}\n"
     ]
    }
   ],
   "source": [
    "pairs = set(pairs_MACCSkeys) & set(pairs_RDK)\n",
    "print(len(pairs))\n",
    "print(pairs)"
   ]
  },
  {
   "cell_type": "code",
   "execution_count": 44,
   "metadata": {},
   "outputs": [
    {
     "data": {
      "image/png": "[encoded data removed]",
      "text/plain": [
       "<IPython.core.display.Image object>"
      ]
     },
     "execution_count": 44,
     "metadata": {},
     "output_type": "execute_result"
    }
   ],
   "source": [
    "draw_molecules(pairs, \"mols_MorganFingerprin&RDK_0.75.png\")\n",
    "Image(filename = \"mols_MorganFingerprin&RDK_0.75.png\")"
   ]
  },
  {
   "cell_type": "code",
   "execution_count": 45,
   "metadata": {},
   "outputs": [
    {
     "name": "stdout",
     "output_type": "stream",
     "text": [
      "2\n",
      "{('COc1ccc(S(=O)(=O)N(C)C[C@H]2Oc3c(NC(=O)Nc4ccccc4)cccc3C(=O)N([C@H](C)CO)C[C@H]2C)cc1', 'COc1ccc(S(=O)(=O)N(C)C[C@@H]2Oc3c(NC(=O)Nc4cccc5ccccc45)cccc3C(=O)N([C@H](C)CO)C[C@H]2C)cc1'), ('CC(=O)OCC(=O)[C@@]1(O)[C@@H](C)CC2C3CCC4=CC(=O)C=C[C@]4(C)[C@@]3(F)[C@@H](O)C[C@@]21C', 'CC(=O)OCC(=O)[C@@]1(O)[C@H](C)C[C@H]2[C@@H]3CCC4=CC(=O)C=C[C@]4(C)[C@@]3(F)[C@@H](O)C[C@@]21C')}\n"
     ]
    }
   ],
   "source": [
    "pairs = set(pairs_MorganFingerprin) & set(pairs_RDK)\n",
    "print(len(pairs))\n",
    "print(pairs)"
   ]
  },
  {
   "cell_type": "code",
   "execution_count": 46,
   "metadata": {},
   "outputs": [
    {
     "data": {
      "image/png": "[encoded data removed]",
      "text/plain": [
       "<IPython.core.display.Image object>"
      ]
     },
     "execution_count": 46,
     "metadata": {},
     "output_type": "execute_result"
    }
   ],
   "source": [
    "draw_molecules(pairs, \"mols_MorganFingerprin&RDK_0.75.png\")\n",
    "Image(filename = \"mols_MorganFingerprin&RDK_0.75.png\")"
   ]
  },
  {
   "cell_type": "markdown",
   "metadata": {},
   "source": [
    "Посмотрим пересечение списков пар молекул с коэффициентом Танимото больше 0,75 для всех 3 типов \"molecular fingerprints\"."
   ]
  },
  {
   "cell_type": "code",
   "execution_count": 47,
   "metadata": {},
   "outputs": [
    {
     "name": "stdout",
     "output_type": "stream",
     "text": [
      "2\n",
      "{('COc1ccc(S(=O)(=O)N(C)C[C@H]2Oc3c(NC(=O)Nc4ccccc4)cccc3C(=O)N([C@H](C)CO)C[C@H]2C)cc1', 'COc1ccc(S(=O)(=O)N(C)C[C@@H]2Oc3c(NC(=O)Nc4cccc5ccccc45)cccc3C(=O)N([C@H](C)CO)C[C@H]2C)cc1'), ('CC(=O)OCC(=O)[C@@]1(O)[C@@H](C)CC2C3CCC4=CC(=O)C=C[C@]4(C)[C@@]3(F)[C@@H](O)C[C@@]21C', 'CC(=O)OCC(=O)[C@@]1(O)[C@H](C)C[C@H]2[C@@H]3CCC4=CC(=O)C=C[C@]4(C)[C@@]3(F)[C@@H](O)C[C@@]21C')}\n"
     ]
    }
   ],
   "source": [
    "cross = set(pairs_MorganFingerprin) & set(pairs_MACCSkeys) & set(pairs_RDK)\n",
    "print(len(cross))\n",
    "print(cross)"
   ]
  },
  {
   "cell_type": "code",
   "execution_count": 48,
   "metadata": {},
   "outputs": [
    {
     "data": {
      "image/png": "[encoded data removed]",
      "text/plain": [
       "<IPython.core.display.Image object>"
      ]
     },
     "execution_count": 48,
     "metadata": {},
     "output_type": "execute_result"
    }
   ],
   "source": [
    "draw_molecules(pairs, \"mols_MorganFingerprin&MACCSkeys&RDK_0.75.png\")\n",
    "Image(filename = \"mols_MorganFingerprin&MACCSkeys&RDK_0.75.png\")"
   ]
  },
  {
   "cell_type": "markdown",
   "metadata": {},
   "source": [
    "Для коэффициента Танимото установим порог, равный 1."
   ]
  },
  {
   "cell_type": "markdown",
   "metadata": {},
   "source": [
    "# Morgan Fingerprints."
   ]
  },
  {
   "cell_type": "code",
   "execution_count": 49,
   "metadata": {},
   "outputs": [
    {
     "name": "stdout",
     "output_type": "stream",
     "text": [
      "1\n",
      "[('CC(=O)OCC(=O)[C@@]1(O)[C@@H](C)CC2C3CCC4=CC(=O)C=C[C@]4(C)[C@@]3(F)[C@@H](O)C[C@@]21C', 'CC(=O)OCC(=O)[C@@]1(O)[C@H](C)C[C@H]2[C@@H]3CCC4=CC(=O)C=C[C@]4(C)[C@@]3(F)[C@@H](O)C[C@@]21C')]\n"
     ]
    },
    {
     "data": {
      "image/png": "[encoded data removed]",
      "text/plain": [
       "<IPython.core.display.Image object>"
      ]
     },
     "execution_count": 49,
     "metadata": {},
     "output_type": "execute_result"
    }
   ],
   "source": [
    "molecules = get_dataframe_similarity_moleculs(\"SMILES_tutorial.txt\", \"RDKFingerprint\")\n",
    "pairs_RDK = get_pairs_similarity_moleculs(molecules, 1)\n",
    "draw_molecules(pairs_RDK, \"mols_RDK_1.png\")\n",
    "Image(filename = \"mols_RDK_1.png\")"
   ]
  },
  {
   "cell_type": "markdown",
   "metadata": {},
   "source": [
    "# MACCS Keys"
   ]
  },
  {
   "cell_type": "code",
   "execution_count": 50,
   "metadata": {},
   "outputs": [
    {
     "name": "stdout",
     "output_type": "stream",
     "text": [
      "2\n",
      "[('CC(=O)OCC(=O)[C@@]1(O)[C@@H](C)CC2C3CCC4=CC(=O)C=C[C@]4(C)[C@@]3(F)[C@@H](O)C[C@@]21C', 'CC(=O)OCC(=O)[C@@]1(O)[C@H](C)C[C@H]2[C@@H]3CCC4=CC(=O)C=C[C@]4(C)[C@@]3(F)[C@@H](O)C[C@@]21C'), ('COc1ccc(S(=O)(=O)N(C)C[C@H]2Oc3c(NC(=O)Nc4ccccc4)cccc3C(=O)N([C@H](C)CO)C[C@H]2C)cc1', 'COc1ccc(S(=O)(=O)N(C)C[C@@H]2Oc3c(NC(=O)Nc4cccc5ccccc45)cccc3C(=O)N([C@H](C)CO)C[C@H]2C)cc1')]\n"
     ]
    },
    {
     "data": {
      "image/png": "[encoded data removed]",
      "text/plain": [
       "<IPython.core.display.Image object>"
      ]
     },
     "execution_count": 50,
     "metadata": {},
     "output_type": "execute_result"
    }
   ],
   "source": [
    "molecules = get_dataframe_similarity_moleculs(\"SMILES_tutorial.txt\", \"MACCSkeys\")\n",
    "pairs_RDK = get_pairs_similarity_moleculs(molecules, 1)\n",
    "draw_molecules(pairs_RDK, \"mols_RDK_1.png\")\n",
    "Image(filename = \"mols_RDK_1.png\")"
   ]
  },
  {
   "cell_type": "markdown",
   "metadata": {},
   "source": [
    "# Morgan Fingerprints"
   ]
  },
  {
   "cell_type": "code",
   "execution_count": 51,
   "metadata": {},
   "outputs": [
    {
     "name": "stdout",
     "output_type": "stream",
     "text": [
      "1\n",
      "[('CC(=O)OCC(=O)[C@@]1(O)[C@@H](C)CC2C3CCC4=CC(=O)C=C[C@]4(C)[C@@]3(F)[C@@H](O)C[C@@]21C', 'CC(=O)OCC(=O)[C@@]1(O)[C@H](C)C[C@H]2[C@@H]3CCC4=CC(=O)C=C[C@]4(C)[C@@]3(F)[C@@H](O)C[C@@]21C')]\n"
     ]
    },
    {
     "data": {
      "image/png": "[encoded data removed]",
      "text/plain": [
       "<IPython.core.display.Image object>"
      ]
     },
     "execution_count": 51,
     "metadata": {},
     "output_type": "execute_result"
    }
   ],
   "source": [
    "molecules = get_dataframe_similarity_moleculs(\"SMILES_tutorial.txt\", \"MorganFingerprint\")\n",
    "pairs_RDK = get_pairs_similarity_moleculs(molecules, 1)\n",
    "draw_molecules(pairs_RDK, \"mols_RDK_1.png\")\n",
    "Image(filename = \"mols_RDK_1.png\")"
   ]
  },
  {
   "cell_type": "markdown",
   "metadata": {},
   "source": [
    "# Посмотрим корреляцию между коэффициентами Танимото для разных fingerprints."
   ]
  },
  {
   "cell_type": "markdown",
   "metadata": {},
   "source": [
    "Создали датафрейм, в котором каждый столбец представляет набор коэффициентов Танимото для конкретного fingerprints."
   ]
  },
  {
   "cell_type": "code",
   "execution_count": 52,
   "metadata": {},
   "outputs": [
    {
     "data": {
      "text/html": [
       "<div>\n",
       "<style scoped>\n",
       "    .dataframe tbody tr th:only-of-type {\n",
       "        vertical-align: middle;\n",
       "    }\n",
       "\n",
       "    .dataframe tbody tr th {\n",
       "        vertical-align: top;\n",
       "    }\n",
       "\n",
       "    .dataframe thead th {\n",
       "        text-align: right;\n",
       "    }\n",
       "</style>\n",
       "<table border=\"1\" class=\"dataframe\">\n",
       "  <thead>\n",
       "    <tr style=\"text-align: right;\">\n",
       "      <th></th>\n",
       "      <th>RDKFingerprint</th>\n",
       "      <th>MACCSkeys</th>\n",
       "      <th>MorganFingerprint</th>\n",
       "    </tr>\n",
       "  </thead>\n",
       "  <tbody>\n",
       "    <tr>\n",
       "      <th>0</th>\n",
       "      <td>0.354465</td>\n",
       "      <td>0.357143</td>\n",
       "      <td>0.116505</td>\n",
       "    </tr>\n",
       "    <tr>\n",
       "      <th>1</th>\n",
       "      <td>0.310617</td>\n",
       "      <td>0.357143</td>\n",
       "      <td>0.095745</td>\n",
       "    </tr>\n",
       "    <tr>\n",
       "      <th>2</th>\n",
       "      <td>0.273913</td>\n",
       "      <td>0.307692</td>\n",
       "      <td>0.103093</td>\n",
       "    </tr>\n",
       "    <tr>\n",
       "      <th>3</th>\n",
       "      <td>0.322581</td>\n",
       "      <td>0.282051</td>\n",
       "      <td>0.105263</td>\n",
       "    </tr>\n",
       "    <tr>\n",
       "      <th>4</th>\n",
       "      <td>0.495756</td>\n",
       "      <td>0.395062</td>\n",
       "      <td>0.094828</td>\n",
       "    </tr>\n",
       "  </tbody>\n",
       "</table>\n",
       "</div>"
      ],
      "text/plain": [
       "   RDKFingerprint  MACCSkeys  MorganFingerprint\n",
       "0        0.354465   0.357143           0.116505\n",
       "1        0.310617   0.357143           0.095745\n",
       "2        0.273913   0.307692           0.103093\n",
       "3        0.322581   0.282051           0.105263\n",
       "4        0.495756   0.395062           0.094828"
      ]
     },
     "execution_count": 52,
     "metadata": {},
     "output_type": "execute_result"
    }
   ],
   "source": [
    "d = {}\n",
    "for type in [\"RDKFingerprint\", \"MACCSkeys\", \"MorganFingerprint\"]:\n",
    "    molecules = get_dataframe_similarity_moleculs(\"SMILES_tutorial.txt\", type)\n",
    "    pairs = []\n",
    "    simmil = []\n",
    "    for i in molecules.columns:\n",
    "        for j in molecules.index:\n",
    "            if (i != j) & (not ((j,i) in pairs)): #убираем коэффициенты для повторяющихся пар и пар, содержащих одинаковые молекулы\n",
    "                pairs.append((i,j))\n",
    "                simmil.append((molecules[i][j]))\n",
    "    d[type] = simmil\n",
    "data = pd.DataFrame(d)\n",
    "data.head()"
   ]
  },
  {
   "cell_type": "markdown",
   "metadata": {},
   "source": [
    "Посчитали коэффициент корреляции Спирмена для каждой пары fingerprints."
   ]
  },
  {
   "cell_type": "code",
   "execution_count": 53,
   "metadata": {
    "scrolled": true
   },
   "outputs": [
    {
     "data": {
      "text/html": [
       "<div>\n",
       "<style scoped>\n",
       "    .dataframe tbody tr th:only-of-type {\n",
       "        vertical-align: middle;\n",
       "    }\n",
       "\n",
       "    .dataframe tbody tr th {\n",
       "        vertical-align: top;\n",
       "    }\n",
       "\n",
       "    .dataframe thead th {\n",
       "        text-align: right;\n",
       "    }\n",
       "</style>\n",
       "<table border=\"1\" class=\"dataframe\">\n",
       "  <thead>\n",
       "    <tr style=\"text-align: right;\">\n",
       "      <th></th>\n",
       "      <th>RDKFingerprint</th>\n",
       "      <th>MACCSkeys</th>\n",
       "      <th>MorganFingerprint</th>\n",
       "    </tr>\n",
       "  </thead>\n",
       "  <tbody>\n",
       "    <tr>\n",
       "      <th>RDKFingerprint</th>\n",
       "      <td>1.000000</td>\n",
       "      <td>0.592545</td>\n",
       "      <td>0.271102</td>\n",
       "    </tr>\n",
       "    <tr>\n",
       "      <th>MACCSkeys</th>\n",
       "      <td>0.592545</td>\n",
       "      <td>1.000000</td>\n",
       "      <td>0.490735</td>\n",
       "    </tr>\n",
       "    <tr>\n",
       "      <th>MorganFingerprint</th>\n",
       "      <td>0.271102</td>\n",
       "      <td>0.490735</td>\n",
       "      <td>1.000000</td>\n",
       "    </tr>\n",
       "  </tbody>\n",
       "</table>\n",
       "</div>"
      ],
      "text/plain": [
       "                   RDKFingerprint  MACCSkeys  MorganFingerprint\n",
       "RDKFingerprint           1.000000   0.592545           0.271102\n",
       "MACCSkeys                0.592545   1.000000           0.490735\n",
       "MorganFingerprint        0.271102   0.490735           1.000000"
      ]
     },
     "execution_count": 53,
     "metadata": {},
     "output_type": "execute_result"
    }
   ],
   "source": [
    "data.corr(method='spearman')"
   ]
  },
  {
   "cell_type": "code",
   "execution_count": 54,
   "metadata": {
    "scrolled": true
   },
   "outputs": [
    {
     "data": {
      "text/plain": [
       "<matplotlib.axes._subplots.AxesSubplot at 0x7fed715a2790>"
      ]
     },
     "execution_count": 54,
     "metadata": {},
     "output_type": "execute_result"
    },
    {
     "data": {
      "image/png": "[encoded data removed]",
      "text/plain": [
       "<Figure size 432x288 with 2 Axes>"
      ]
     },
     "metadata": {
      "needs_background": "light"
     },
     "output_type": "display_data"
    }
   ],
   "source": [
    "sns.heatmap(data.corr(method = 'spearman'), square = True)"
   ]
  },
  {
   "cell_type": "markdown",
   "metadata": {},
   "source": [
    "Наибольшая корреляция наблюдается для MACCSkeys и RDKFingerprint, затем для  MACCSkeys и MorganFingerprint."
   ]
  }
 ],
 "metadata": {
  "kernelspec": {
   "display_name": "Python 3",
   "language": "python",
   "name": "python3"
  },
  "language_info": {
   "codemirror_mode": {
    "name": "ipython",
    "version": 3
   },
   "file_extension": ".py",
   "mimetype": "text/x-python",
   "name": "python",
   "nbconvert_exporter": "python",
   "pygments_lexer": "ipython3",
   "version": "3.8.5"
  }
 },
 "nbformat": 4,
 "nbformat_minor": 4
}
